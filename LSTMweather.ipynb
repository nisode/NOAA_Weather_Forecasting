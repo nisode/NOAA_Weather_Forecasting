{
  "cells": [
    {
      "cell_type": "markdown",
      "metadata": {
        "id": "m-Q1p4_xjzEj"
      },
      "source": [
        "#Setup"
      ]
    },
    {
      "cell_type": "markdown",
      "source": [
        "First change runtime to GPU for better Deep Learning performance."
      ],
      "metadata": {
        "id": "PaT2B_6P4Hie"
      }
    },
    {
      "cell_type": "code",
      "execution_count": 2,
      "metadata": {
        "colab": {
          "base_uri": "https://localhost:8080/"
        },
        "id": "91RpAV32zHSF",
        "outputId": "90985349-524b-4762-a20c-0eed6ba9b4fa"
      },
      "outputs": [
        {
          "output_type": "stream",
          "name": "stdout",
          "text": [
            "Looking in indexes: https://pypi.org/simple, https://us-python.pkg.dev/colab-wheels/public/simple/\n",
            "Collecting pyspark\n",
            "  Downloading pyspark-3.4.0.tar.gz (310.8 MB)\n",
            "\u001b[2K     \u001b[90m━━━━━━━━━━━━━━━━━━━━━━━━━━━━━━━━━━━━━━━\u001b[0m \u001b[32m310.8/310.8 MB\u001b[0m \u001b[31m4.2 MB/s\u001b[0m eta \u001b[36m0:00:00\u001b[0m\n",
            "\u001b[?25h  Preparing metadata (setup.py) ... \u001b[?25l\u001b[?25hdone\n",
            "Requirement already satisfied: py4j==0.10.9.7 in /usr/local/lib/python3.10/dist-packages (from pyspark) (0.10.9.7)\n",
            "Building wheels for collected packages: pyspark\n",
            "  Building wheel for pyspark (setup.py) ... \u001b[?25l\u001b[?25hdone\n",
            "  Created wheel for pyspark: filename=pyspark-3.4.0-py2.py3-none-any.whl size=311317130 sha256=180610ce7c74458c98d29730c483ccfe5cb91f1a32e35e1b7478fcf1b9a96f97\n",
            "  Stored in directory: /root/.cache/pip/wheels/7b/1b/4b/3363a1d04368e7ff0d408e57ff57966fcdf00583774e761327\n",
            "Successfully built pyspark\n",
            "Installing collected packages: pyspark\n",
            "Successfully installed pyspark-3.4.0\n"
          ]
        }
      ],
      "source": [
        "!pip install pyspark"
      ]
    },
    {
      "cell_type": "code",
      "execution_count": 3,
      "metadata": {
        "id": "iuVWHXhYzMwL"
      },
      "outputs": [],
      "source": [
        "import os\n",
        "from pyspark.sql import SparkSession\n",
        "from pyspark.sql import functions as F\n",
        "from pyspark.sql.types import *\n",
        "from math import radians, cos, sin, asin, sqrt\n",
        "import datetime\n",
        "import pandas as pd\n",
        "import numpy as np\n",
        "import tensorflow as tf\n",
        "from tensorflow.keras import layers as layers\n",
        "from matplotlib import pyplot as plt"
      ]
    },
    {
      "cell_type": "code",
      "execution_count": 5,
      "metadata": {
        "id": "acr9-yWQz0Ws"
      },
      "outputs": [],
      "source": [
        "# Initialize Spark\n",
        "spark = SparkSession.builder\\\n",
        "        .master(\"local\")\\\n",
        "        .appName(\"Colab\")\\\n",
        "        .config('spark.ui.port', '4050')\\\n",
        "        .getOrCreate()"
      ]
    },
    {
      "cell_type": "markdown",
      "metadata": {
        "id": "IES-pgl02c3v"
      },
      "source": [
        "# Download Data"
      ]
    },
    {
      "cell_type": "code",
      "execution_count": 4,
      "metadata": {
        "colab": {
          "base_uri": "https://localhost:8080/"
        },
        "id": "qRlUlYC8qsRp",
        "outputId": "de59d73c-fd85-489a-c37a-3c455d9b50b9"
      },
      "outputs": [
        {
          "output_type": "stream",
          "name": "stdout",
          "text": [
            "--2023-05-08 19:45:31--  https://www.ncei.noaa.gov/pub/data/ghcn/daily/ghcnd-countries.txt\n",
            "Resolving www.ncei.noaa.gov (www.ncei.noaa.gov)... 205.167.25.167, 205.167.25.172, 205.167.25.177, ...\n",
            "Connecting to www.ncei.noaa.gov (www.ncei.noaa.gov)|205.167.25.167|:443... connected.\n",
            "HTTP request sent, awaiting response... 200 OK\n",
            "Length: 3659 (3.6K) [text/plain]\n",
            "Saving to: ‘ghcnd-countries.txt’\n",
            "\n",
            "\rghcnd-countries.txt   0%[                    ]       0  --.-KB/s               \rghcnd-countries.txt 100%[===================>]   3.57K  --.-KB/s    in 0s      \n",
            "\n",
            "2023-05-08 19:45:31 (181 MB/s) - ‘ghcnd-countries.txt’ saved [3659/3659]\n",
            "\n"
          ]
        }
      ],
      "source": [
        "!wget https://www.ncei.noaa.gov/pub/data/ghcn/daily/ghcnd-countries.txt"
      ]
    },
    {
      "cell_type": "code",
      "execution_count": 5,
      "metadata": {
        "colab": {
          "base_uri": "https://localhost:8080/"
        },
        "id": "Em_oxoti0CwK",
        "outputId": "7eb5dfaf-d7eb-4538-9729-27714150d31d"
      },
      "outputs": [
        {
          "output_type": "stream",
          "name": "stdout",
          "text": [
            "--2023-05-08 19:45:32--  https://www.ncei.noaa.gov/pub/data/ghcn/daily/ghcnd-stations.txt\n",
            "Resolving www.ncei.noaa.gov (www.ncei.noaa.gov)... 205.167.25.171, 205.167.25.167, 205.167.25.178, ...\n",
            "Connecting to www.ncei.noaa.gov (www.ncei.noaa.gov)|205.167.25.171|:443... connected.\n",
            "HTTP request sent, awaiting response... 200 OK\n",
            "Length: 10685070 (10M) [text/plain]\n",
            "Saving to: ‘ghcnd-stations.txt’\n",
            "\n",
            "ghcnd-stations.txt  100%[===================>]  10.19M  23.3MB/s    in 0.4s    \n",
            "\n",
            "2023-05-08 19:45:32 (23.3 MB/s) - ‘ghcnd-stations.txt’ saved [10685070/10685070]\n",
            "\n"
          ]
        }
      ],
      "source": [
        "!wget https://www.ncei.noaa.gov/pub/data/ghcn/daily/ghcnd-stations.txt"
      ]
    },
    {
      "cell_type": "code",
      "execution_count": null,
      "metadata": {
        "colab": {
          "base_uri": "https://localhost:8080/"
        },
        "id": "Mx7wWzP4et31",
        "outputId": "13322cd3-a695-470a-a1e5-c976b5211277"
      },
      "outputs": [
        {
          "name": "stdout",
          "output_type": "stream",
          "text": [
            "--2023-04-18 21:17:54--  https://www.ncei.noaa.gov/data/global-historical-climatology-network-daily/archive/daily-summaries-latest.tar.gz\n",
            "Resolving www.ncei.noaa.gov (www.ncei.noaa.gov)... 205.167.25.171, 205.167.25.172, 205.167.25.178, ...\n",
            "Connecting to www.ncei.noaa.gov (www.ncei.noaa.gov)|205.167.25.171|:443... connected.\n",
            "HTTP request sent, awaiting response... 200 OK\n",
            "Length: 7557327282 (7.0G) [application/gzip]\n",
            "Saving to: ‘daily-summaries-latest.tar.gz’\n",
            "\n",
            "daily-summaries-lat 100%[===================>]   7.04G  15.2MB/s    in 8m 57s  \n",
            "\n",
            "2023-04-18 21:26:51 (13.4 MB/s) - ‘daily-summaries-latest.tar.gz’ saved [7557327282/7557327282]\n",
            "\n"
          ]
        }
      ],
      "source": [
        "!wget https://www.ncei.noaa.gov/data/global-historical-climatology-network-daily/archive/daily-summaries-latest.tar.gz"
      ]
    },
    {
      "cell_type": "markdown",
      "metadata": {
        "id": "ufC-5p6d7ynE"
      },
      "source": [
        "## Backup Daily Data"
      ]
    },
    {
      "cell_type": "markdown",
      "metadata": {
        "id": "auKz868hSi2a"
      },
      "source": [
        "Backup GHCND data on Google Drive (Sept 2022 ver.) incase of failure from NOAA website."
      ]
    },
    {
      "cell_type": "code",
      "execution_count": null,
      "metadata": {
        "id": "U_P__oJN0I81"
      },
      "outputs": [],
      "source": [
        "if not os.path.exists(\"/content/daily-summaries-latest.tar.gz\"):\n",
        "  !gdown 1cif2mEO63W1sTrvFbxIVkK9iyVhX3OP2"
      ]
    },
    {
      "cell_type": "code",
      "execution_count": null,
      "metadata": {
        "colab": {
          "base_uri": "https://localhost:8080/"
        },
        "id": "Zd2Ue5sVYzkn",
        "outputId": "18b32922-97fa-4f6e-ee82-10dc15f42fca"
      },
      "outputs": [
        {
          "name": "stdout",
          "output_type": "stream",
          "text": [
            "1103409663\n"
          ]
        }
      ],
      "source": [
        "# Counts lines in daily summaries, takes a long time to run (~12 mins) so beweare if uncommenting\n",
        "\n",
        "#!zcat /content/daily-summaries-latest.tar.gz | wc -l"
      ]
    },
    {
      "cell_type": "markdown",
      "source": [
        "We can see this has ~1.1 billion rows."
      ],
      "metadata": {
        "id": "fjMc2qlkbz3F"
      }
    },
    {
      "cell_type": "markdown",
      "metadata": {
        "id": "2aRA63YWTbBH"
      },
      "source": [
        "#Data Processing"
      ]
    },
    {
      "cell_type": "markdown",
      "source": [
        "Documentation on the datasets can be found in the link below:"
      ],
      "metadata": {
        "id": "frRfOjlGEdxi"
      }
    },
    {
      "cell_type": "markdown",
      "metadata": {
        "id": "MjzAJu3201hM"
      },
      "source": [
        "https://www1.ncdc.noaa.gov/pub/data/ghcn/daily/readme.txt"
      ]
    },
    {
      "cell_type": "markdown",
      "source": [
        "First I'm going to load the data in PySpark. For a dataset this big, it would normally be stored in hadoop distributed file system and accessed with spark to leverage distributed computing since loading billions of rows into memory is often very difficult if not impossible. Processing will also be a lot slower. Since Colab isn't distributed, it will be a lot slower here than it would be in real usage."
      ],
      "metadata": {
        "id": "2fifyQPjDvum"
      }
    },
    {
      "cell_type": "code",
      "execution_count": 6,
      "metadata": {
        "colab": {
          "base_uri": "https://localhost:8080/"
        },
        "id": "KTCo9d1S0JXO",
        "outputId": "41fbedfc-c20f-4dd2-af88-8dcbefb8d257"
      },
      "outputs": [
        {
          "output_type": "stream",
          "name": "stdout",
          "text": [
            "+-----------+------------+--------+---------+---------+-----+---------------------+--------+------------+------+\n",
            "|ID         |COUNTRY_CODE|LATITUDE|LONGITUDE|ELEVATION|STATE|STATION_NAME         |GSN_FLAG|HCN_CRN_FLAG|WMO_ID|\n",
            "+-----------+------------+--------+---------+---------+-----+---------------------+--------+------------+------+\n",
            "|ACW00011604|AC          |17.1167 |-61.7833 |10.1     |     |ST JOHNS COOLIDGE FLD|        |            |      |\n",
            "|ACW00011647|AC          |17.1333 |-61.7833 |19.2     |     |ST JOHNS             |        |            |      |\n",
            "|AE000041196|AE          |25.333  |55.517   |34.0     |     |SHARJAH INTER. AIRP  |GSN     |            |41196 |\n",
            "|AEM00041194|AE          |25.255  |55.364   |10.4     |     |DUBAI INTL           |        |            |41194 |\n",
            "|AEM00041217|AE          |24.433  |54.651   |26.8     |     |ABU DHABI INTL       |        |            |41217 |\n",
            "|AEM00041218|AE          |24.262  |55.609   |264.9    |     |AL AIN INTL          |        |            |41218 |\n",
            "|AF000040930|AF          |35.317  |69.017   |3366.0   |     |NORTH-SALANG         |GSN     |            |40930 |\n",
            "|AFM00040938|AF          |34.21   |62.228   |977.2    |     |HERAT                |        |            |40938 |\n",
            "|AFM00040948|AF          |34.566  |69.212   |1791.3   |     |KABUL INTL           |        |            |40948 |\n",
            "|AFM00040990|AF          |31.5    |65.85    |1010.0   |     |KANDAHAR AIRPORT     |        |            |40990 |\n",
            "+-----------+------------+--------+---------+---------+-----+---------------------+--------+------------+------+\n",
            "only showing top 10 rows\n",
            "\n"
          ]
        }
      ],
      "source": [
        "schema_stations = StructType([\n",
        "    StructField('ID', StringType()),\n",
        "    StructField('COUNTRY_CODE', StringType()),\n",
        "    StructField('LATITUDE', DoubleType()),\n",
        "    StructField('LONGITUDE', DoubleType()),\n",
        "    StructField('ELEVATION', DoubleType()),\n",
        "    StructField('STATE', StringType()),\n",
        "    StructField('STATION_NAME', StringType()),\n",
        "    StructField('GSN_FLAG', StringType()),\n",
        "    StructField('HCN_CRN_FLAG', StringType()),\n",
        "    StructField('WMO_ID', StringType())\n",
        "])\n",
        "\n",
        "stations_text_only = spark.read.format(\"text\").load(\"ghcnd-stations.txt\")\n",
        "\n",
        "stations = stations_text_only.select(\n",
        "    F.trim(F.substring(F.col(\"value\"),1,11)).alias('ID').cast(schema_stations['ID'].dataType),\n",
        "    F.trim(F.substring(F.col(\"value\"),1,2)).alias('COUNTRY_CODE').cast(schema_stations['COUNTRY_CODE'].dataType),\n",
        "    F.trim(F.substring(F.col(\"value\"),13,8)).alias('LATITUDE').cast(schema_stations['LATITUDE'].dataType),\n",
        "    F.trim(F.substring(F.col(\"value\"),22,9)).alias('LONGITUDE').cast(schema_stations['LONGITUDE'].dataType),\n",
        "    F.trim(F.substring(F.col(\"value\"),32,6)).alias('ELEVATION').cast(schema_stations['ELEVATION'].dataType),\n",
        "    F.trim(F.substring(F.col(\"value\"),39,2)).alias('STATE').cast(schema_stations['STATE'].dataType),\n",
        "    F.trim(F.substring(F.col(\"value\"),42,30)).alias('STATION_NAME').cast(schema_stations['STATION_NAME'].dataType),\n",
        "    F.trim(F.substring(F.col(\"value\"),73,3)).alias('GSN_FLAG').cast(schema_stations['GSN_FLAG'].dataType),\n",
        "    F.trim(F.substring(F.col(\"value\"),77,3)).alias('HCN_CRN_FLAG').cast(schema_stations['HCN_CRN_FLAG'].dataType),\n",
        "    F.trim(F.substring(F.col(\"value\"),81,5)).alias('WMO_ID').cast(schema_stations['WMO_ID'].dataType)\n",
        ")\n",
        "\n",
        "stations.show(10,False)"
      ]
    },
    {
      "cell_type": "code",
      "execution_count": 7,
      "metadata": {
        "colab": {
          "base_uri": "https://localhost:8080/"
        },
        "id": "Bavw-RSV0-9J",
        "outputId": "655fa6eb-2ce5-412d-9b2b-4b633f9c65db"
      },
      "outputs": [
        {
          "output_type": "stream",
          "name": "stdout",
          "text": [
            "+------------+------------------------------+\n",
            "|COUNTRY_CODE|COUNTRY_NAME                  |\n",
            "+------------+------------------------------+\n",
            "|AC          |Antigua and Barbuda           |\n",
            "|AE          |United Arab Emirates          |\n",
            "|AF          |Afghanistan                   |\n",
            "|AG          |Algeria                       |\n",
            "|AJ          |Azerbaijan                    |\n",
            "|AL          |Albania                       |\n",
            "|AM          |Armenia                       |\n",
            "|AO          |Angola                        |\n",
            "|AQ          |American Samoa [United States]|\n",
            "|AR          |Argentina                     |\n",
            "+------------+------------------------------+\n",
            "only showing top 10 rows\n",
            "\n"
          ]
        }
      ],
      "source": [
        "schema_countries = StructType([\n",
        "    StructField('COUNTRY_CODE', StringType()),\n",
        "    StructField('COUNTRY_NAME', StringType())\n",
        "])\n",
        "\n",
        "\n",
        "countries_text_only = spark.read.format(\"text\").load(\"ghcnd-countries.txt\")\n",
        "\n",
        "countries = countries_text_only.select(\n",
        "    F.trim(F.substring(F.col(\"value\"),1,2)).alias('COUNTRY_CODE').cast(schema_countries['COUNTRY_CODE'].dataType),\n",
        "    F.trim(F.substring(F.col(\"value\"),4,75)).alias('COUNTRY_NAME').cast(schema_countries['COUNTRY_NAME'].dataType),\n",
        ")\n",
        "\n",
        "countries.show(10,False)"
      ]
    },
    {
      "cell_type": "code",
      "execution_count": 8,
      "metadata": {
        "colab": {
          "base_uri": "https://localhost:8080/"
        },
        "id": "ahzX3VlJB9HI",
        "outputId": "674db1f7-67b8-401a-8a2f-dd516bd81560"
      },
      "outputs": [
        {
          "output_type": "stream",
          "name": "stdout",
          "text": [
            "+------------+-----------+--------+---------+---------+-----+--------------------+--------+------------+------+--------------------+\n",
            "|COUNTRY_CODE|         ID|LATITUDE|LONGITUDE|ELEVATION|STATE|        STATION_NAME|GSN_FLAG|HCN_CRN_FLAG|WMO_ID|        COUNTRY_NAME|\n",
            "+------------+-----------+--------+---------+---------+-----+--------------------+--------+------------+------+--------------------+\n",
            "|          AC|ACW00011604| 17.1167| -61.7833|     10.1|     |ST JOHNS COOLIDGE...|        |            |      | Antigua and Barbuda|\n",
            "|          AC|ACW00011647| 17.1333| -61.7833|     19.2|     |            ST JOHNS|        |            |      | Antigua and Barbuda|\n",
            "|          AE|AE000041196|  25.333|   55.517|     34.0|     | SHARJAH INTER. AIRP|     GSN|            | 41196|United Arab Emirates|\n",
            "|          AE|AEM00041194|  25.255|   55.364|     10.4|     |          DUBAI INTL|        |            | 41194|United Arab Emirates|\n",
            "|          AE|AEM00041217|  24.433|   54.651|     26.8|     |      ABU DHABI INTL|        |            | 41217|United Arab Emirates|\n",
            "|          AE|AEM00041218|  24.262|   55.609|    264.9|     |         AL AIN INTL|        |            | 41218|United Arab Emirates|\n",
            "|          AF|AF000040930|  35.317|   69.017|   3366.0|     |        NORTH-SALANG|     GSN|            | 40930|         Afghanistan|\n",
            "|          AF|AFM00040938|   34.21|   62.228|    977.2|     |               HERAT|        |            | 40938|         Afghanistan|\n",
            "|          AF|AFM00040948|  34.566|   69.212|   1791.3|     |          KABUL INTL|        |            | 40948|         Afghanistan|\n",
            "|          AF|AFM00040990|    31.5|    65.85|   1010.0|     |    KANDAHAR AIRPORT|        |            | 40990|         Afghanistan|\n",
            "|          AG|AG000060390| 36.7167|     3.25|     24.0|     |  ALGER-DAR EL BEIDA|     GSN|            | 60390|             Algeria|\n",
            "|          AG|AG000060590| 30.5667|   2.8667|    397.0|     |            EL-GOLEA|     GSN|            | 60590|             Algeria|\n",
            "|          AG|AG000060611|   28.05|   9.6331|    561.0|     |           IN-AMENAS|     GSN|            | 60611|             Algeria|\n",
            "|          AG|AG000060680|    22.8|   5.4331|   1362.0|     |         TAMANRASSET|     GSN|            | 60680|             Algeria|\n",
            "|          AG|AGE00135039| 35.7297|     0.65|     50.0|     |ORAN-HOPITAL MILI...|        |            |      |             Algeria|\n",
            "|          AG|AGE00147704|   36.97|     7.79|    161.0|     | ANNABA-CAP DE GARDE|        |            |      |             Algeria|\n",
            "|          AG|AGE00147705|   36.78|     3.07|     59.0|     |ALGIERS-VILLE/UNI...|        |            |      |             Algeria|\n",
            "|          AG|AGE00147706|    36.8|     3.03|    344.0|     |   ALGIERS-BOUZAREAH|        |            |      |             Algeria|\n",
            "|          AG|AGE00147707|    36.8|     3.04|     38.0|     |  ALGIERS-CAP CAXINE|        |            |      |             Algeria|\n",
            "|          AG|AGE00147708|   36.72|     4.05|    222.0|     |          TIZI OUZOU|        |            | 60395|             Algeria|\n",
            "+------------+-----------+--------+---------+---------+-----+--------------------+--------+------------+------+--------------------+\n",
            "only showing top 20 rows\n",
            "\n"
          ]
        }
      ],
      "source": [
        "stations_and_countries = stations.join(countries, ['COUNTRY_CODE'])\n",
        "stations_and_countries.show()"
      ]
    },
    {
      "cell_type": "markdown",
      "source": [
        "Here I use San Francisco's coordinates from google, but you can input your own or use geocoder to get IP based location coordinates if this were a real application. Using it in colab will likely get colab's server location."
      ],
      "metadata": {
        "id": "CU-wB7LGD2h2"
      }
    },
    {
      "cell_type": "code",
      "execution_count": 9,
      "metadata": {
        "id": "y_SkwQttYvww"
      },
      "outputs": [],
      "source": [
        "#San Francisco Coordinates\n",
        "lon = -122.431297\n",
        "lat = 37.773972"
      ]
    },
    {
      "cell_type": "code",
      "execution_count": null,
      "metadata": {
        "id": "SNrwmyqPTUkZ"
      },
      "outputs": [],
      "source": [
        "# uncomment if you want to use own/colab's location\n",
        "\"\"\"\n",
        "!pip install geocoder\n",
        "import geocoder\n",
        "loc = geocoder.ip('me')\n",
        "lon = loc.latlng[1]\n",
        "lat = loc.latlng[0]\n",
        "print(lon)\n",
        "print(lat)\n",
        "\"\"\""
      ]
    },
    {
      "cell_type": "markdown",
      "source": [
        "Haversine formula to calculate distances between two points, which here will be location input and every station in the stations dataset."
      ],
      "metadata": {
        "id": "0CgW27F0EMTV"
      }
    },
    {
      "cell_type": "code",
      "execution_count": 11,
      "metadata": {
        "colab": {
          "base_uri": "https://localhost:8080/"
        },
        "id": "zXruPJ8lTT9t",
        "outputId": "9e956a28-d733-4e4b-fc08-80dcfae7b12b"
      },
      "outputs": [
        {
          "output_type": "stream",
          "name": "stdout",
          "text": [
            "+------------+-----------+--------+---------+---------+-----+--------------------+--------+------------+------+--------------------+------------------+\n",
            "|COUNTRY_CODE|         ID|LATITUDE|LONGITUDE|ELEVATION|STATE|        STATION_NAME|GSN_FLAG|HCN_CRN_FLAG|WMO_ID|        COUNTRY_NAME|          DISTANCE|\n",
            "+------------+-----------+--------+---------+---------+-----+--------------------+--------+------------+------+--------------------+------------------+\n",
            "|          AC|ACW00011604| 17.1167| -61.7833|     10.1|     |ST JOHNS COOLIDGE...|        |            |      | Antigua and Barbuda| 3907.522774500987|\n",
            "|          AC|ACW00011647| 17.1333| -61.7833|     19.2|     |            ST JOHNS|        |            |      | Antigua and Barbuda|3906.8756471596384|\n",
            "|          AE|AE000041196|  25.333|   55.517|     34.0|     | SHARJAH INTER. AIRP|     GSN|            | 41196|United Arab Emirates| 8068.874167203687|\n",
            "|          AE|AEM00041194|  25.255|   55.364|     10.4|     |          DUBAI INTL|        |            | 41194|United Arab Emirates| 8073.942399827962|\n",
            "|          AE|AEM00041217|  24.433|   54.651|     26.8|     |      ABU DHABI INTL|        |            | 41217|United Arab Emirates| 8128.875507648352|\n",
            "|          AE|AEM00041218|  24.262|   55.609|    264.9|     |         AL AIN INTL|        |            | 41218|United Arab Emirates| 8142.965365718804|\n",
            "|          AF|AF000040930|  35.317|   69.017|   3366.0|     |        NORTH-SALANG|     GSN|            | 40930|         Afghanistan| 7328.606383154671|\n",
            "|          AF|AFM00040938|   34.21|   62.228|    977.2|     |               HERAT|        |            | 40938|         Afghanistan|7449.0080655893225|\n",
            "|          AF|AFM00040948|  34.566|   69.212|   1791.3|     |          KABUL INTL|        |            | 40948|         Afghanistan| 7377.927468978184|\n",
            "|          AF|AFM00040990|    31.5|    65.85|   1010.0|     |    KANDAHAR AIRPORT|        |            | 40990|         Afghanistan|  7615.42124972238|\n",
            "|          AG|AG000060390| 36.7167|     3.25|     24.0|     |  ALGER-DAR EL BEIDA|     GSN|            | 60390|             Algeria| 6227.337838368752|\n",
            "|          AG|AG000060590| 30.5667|   2.8667|    397.0|     |            EL-GOLEA|     GSN|            | 60590|             Algeria| 6537.876522408684|\n",
            "|          AG|AG000060611|   28.05|   9.6331|    561.0|     |           IN-AMENAS|     GSN|            | 60611|             Algeria| 6927.291993489448|\n",
            "|          AG|AG000060680|    22.8|   5.4331|   1362.0|     |         TAMANRASSET|     GSN|            | 60680|             Algeria| 7050.586435628088|\n",
            "|          AG|AGE00135039| 35.7297|     0.65|     50.0|     |ORAN-HOPITAL MILI...|        |            |      |             Algeria| 6184.521729705778|\n",
            "|          AG|AGE00147704|   36.97|     7.79|    161.0|     | ANNABA-CAP DE GARDE|        |            |      |             Algeria| 6370.026251659461|\n",
            "|          AG|AGE00147705|   36.78|     3.07|     59.0|     |ALGIERS-VILLE/UNI...|        |            |      |             Algeria| 6217.588808176557|\n",
            "|          AG|AGE00147706|    36.8|     3.03|    344.0|     |   ALGIERS-BOUZAREAH|        |            |      |             Algeria| 6215.108373596269|\n",
            "|          AG|AGE00147707|    36.8|     3.04|     38.0|     |  ALGIERS-CAP CAXINE|        |            |      |             Algeria| 6215.464294844245|\n",
            "|          AG|AGE00147708|   36.72|     4.05|    222.0|     |          TIZI OUZOU|        |            | 60395|             Algeria| 6255.447470791273|\n",
            "+------------+-----------+--------+---------+---------+-----+--------------------+--------+------------+------+--------------------+------------------+\n",
            "only showing top 20 rows\n",
            "\n"
          ]
        }
      ],
      "source": [
        "def haversine(arr, loc_lon=lon, loc_lat=lat):\n",
        "    \"\"\"\n",
        "    Calculate the great circle distance in kilometers between two points \n",
        "    on the earth (specified in decimal degrees)\n",
        "    https://stackoverflow.com/questions/4913349/haversine-formula-in-python-bearing-and-distance-between-two-gps-points\n",
        "    \"\"\"\n",
        "    # convert decimal degrees to radians \n",
        "    lat1, lon1 = arr\n",
        "    lon1, lat1, lon2, lat2 = map(radians, [lon1, lat1, loc_lon, loc_lat])\n",
        "\n",
        "    # haversine formula \n",
        "    dlon = lon2 - lon1 \n",
        "    dlat = lat2 - lat1 \n",
        "    a = sin(dlat/2)**2 + cos(lat1) * cos(lat2) * sin(dlon/2)**2\n",
        "    c = 2 * asin(sqrt(a)) \n",
        "    r = 3956 # 6371 for km and 3956 for miles\n",
        "    return c * r\n",
        "\n",
        "haversine_UDF = F.udf(haversine, DoubleType())\n",
        "\n",
        "stations_dist = stations_and_countries.withColumn('DISTANCE', haversine_UDF(F.array('LATITUDE', 'LONGITUDE')))\n",
        "stations_dist.cache()\n",
        "stations_dist.show(20)"
      ]
    },
    {
      "cell_type": "markdown",
      "source": [
        "Here I filter and collect the data on the station that is the shortest distance from the input location."
      ],
      "metadata": {
        "id": "eml4dTs3EqO5"
      }
    },
    {
      "cell_type": "code",
      "execution_count": 12,
      "metadata": {
        "colab": {
          "base_uri": "https://localhost:8080/"
        },
        "id": "THUolb0EbsaU",
        "outputId": "57ca9119-cc50-4fbb-aa1d-b190f557f712"
      },
      "outputs": [
        {
          "output_type": "execute_result",
          "data": {
            "text/plain": [
              "0.33435489300424864"
            ]
          },
          "metadata": {},
          "execution_count": 12
        }
      ],
      "source": [
        "min_dist = stations_dist.select(F.min('DISTANCE')).collect()[0][0]\n",
        "min_dist"
      ]
    },
    {
      "cell_type": "code",
      "execution_count": 13,
      "metadata": {
        "colab": {
          "base_uri": "https://localhost:8080/"
        },
        "id": "E94dWK7zdcPV",
        "outputId": "3568c4c1-273d-40ae-c8bc-cef51e9b652e"
      },
      "outputs": [
        {
          "output_type": "execute_result",
          "data": {
            "text/plain": [
              "('SAN FRANCISCO DWTN', 'USW00023272', 'United States')"
            ]
          },
          "metadata": {},
          "execution_count": 13
        }
      ],
      "source": [
        "closest_station = stations_dist.filter(stations_dist.DISTANCE == min_dist).collect()[0]\n",
        "closest_station['STATION_NAME'], closest_station['ID'], closest_station[\"COUNTRY_NAME\"]"
      ]
    },
    {
      "cell_type": "markdown",
      "source": [
        "Next I load the billion row daily observation dataset."
      ],
      "metadata": {
        "id": "2lMtKuqaEyUI"
      }
    },
    {
      "cell_type": "code",
      "execution_count": null,
      "metadata": {
        "id": "ohENKKvO08D_"
      },
      "outputs": [],
      "source": [
        "schema_daily = StructType([\n",
        "    StructField('STATION', StringType()),\n",
        "    StructField('DATE', DateType()),\n",
        "    StructField('LATITUDE', DoubleType()),\n",
        "    StructField('LONGITUDE', DoubleType()),\n",
        "    StructField('ELEVATION', DoubleType()),\n",
        "    StructField('NAME', StringType()),\n",
        "    StructField('PRCP', DoubleType()),\n",
        "    StructField('PRCP_ATTRIBUTES', StringType()),\n",
        "    StructField('SNOW', DoubleType()),\n",
        "    StructField('SNOW_ATTRIBUTES', StringType()),\n",
        "    StructField('SNWD', DoubleType()),\n",
        "    StructField('SNWD_ATTRIBUTES', StringType()),\n",
        "    StructField('TMAX', DoubleType()),\n",
        "    StructField('TMAX_ATTRIBUTES', StringType()),\n",
        "    StructField('TMIN', DoubleType()),\n",
        "    StructField('TMIN_ATTRIBUTES', StringType()),\n",
        "    StructField('PGTM', StringType()),\n",
        "    StructField('PGTM_ATTRIBUTES', StringType()),\n",
        "    StructField('WDFG', DoubleType()),\n",
        "    StructField('WDFG_ATTRIBUTES', StringType()),\n",
        "    StructField('WSFG', DoubleType()),\n",
        "    StructField('WSFG_ATTRIBUTES', StringType()),\n",
        "    StructField('WT03', StringType()),\n",
        "    StructField('WT03_ATTRIBUTES', StringType()),\n",
        "    StructField('WT08', StringType()),\n",
        "    StructField('WT08_ATTRIBUTES', StringType()),\n",
        "    StructField('WT16', StringType()),\n",
        "    StructField('WT16_ATTRIBUTES', StringType())\n",
        "])"
      ]
    },
    {
      "cell_type": "code",
      "execution_count": null,
      "metadata": {
        "id": "XCEDDNuRWckJ"
      },
      "outputs": [],
      "source": [
        "all_daily = spark.read.csv(path=\"/content/daily-summaries-latest.tar.gz\", schema=schema_daily, header=True)"
      ]
    },
    {
      "cell_type": "code",
      "execution_count": null,
      "metadata": {
        "colab": {
          "base_uri": "https://localhost:8080/"
        },
        "id": "I2eLdFVtTEln",
        "outputId": "b9c19df6-ddd3-4f67-c5a3-248c198cdc20"
      },
      "outputs": [
        {
          "name": "stdout",
          "output_type": "stream",
          "text": [
            "+-----------+----------+--------+---------+---------+------------+-----+---------------+----+---------------+----+---------------+----+---------------+----+---------------+----+---------------+----+---------------+----+---------------+----+---------------+----+---------------+----+---------------+\n",
            "|    STATION|      DATE|LATITUDE|LONGITUDE|ELEVATION|        NAME| PRCP|PRCP_ATTRIBUTES|SNOW|SNOW_ATTRIBUTES|SNWD|SNWD_ATTRIBUTES|TMAX|TMAX_ATTRIBUTES|TMIN|TMIN_ATTRIBUTES|PGTM|PGTM_ATTRIBUTES|WDFG|WDFG_ATTRIBUTES|WSFG|WSFG_ATTRIBUTES|WT03|WT03_ATTRIBUTES|WT08|WT08_ATTRIBUTES|WT16|WT16_ATTRIBUTES|\n",
            "+-----------+----------+--------+---------+---------+------------+-----+---------------+----+---------------+----+---------------+----+---------------+----+---------------+----+---------------+----+---------------+----+---------------+----+---------------+----+---------------+----+---------------+\n",
            "|ACW00011647|1957-09-01|17.13333|-61.78333|     19.2|ST JOHNS, AC|  0.0|            ,,X| 0.0|            ,,X| 0.0|            ,,X|null|           null|null|           null|null|           null|null|           null|null|           null|null|           null|null|           null|null|           null|\n",
            "|ACW00011647|1957-09-02|17.13333|-61.78333|     19.2|ST JOHNS, AC|  0.0|            ,,X| 0.0|            ,,X| 0.0|            ,,X|null|           null|null|           null|null|           null|null|           null|null|           null|null|           null|null|           null|null|           null|\n",
            "|ACW00011647|1957-09-03|17.13333|-61.78333|     19.2|ST JOHNS, AC|  0.0|            ,,X| 0.0|            ,,X| 0.0|            ,,X|null|           null|null|           null|null|           null|null|           null|null|           null|null|           null|null|           null|null|           null|\n",
            "|ACW00011647|1957-09-04|17.13333|-61.78333|     19.2|ST JOHNS, AC|  3.0|            ,,X| 0.0|            ,,X| 0.0|            ,,X|null|           null|null|           null|null|           null|null|           null|null|           null|null|           null|null|           null|null|           null|\n",
            "|ACW00011647|1957-09-05|17.13333|-61.78333|     19.2|ST JOHNS, AC| 15.0|            ,,X| 0.0|            ,,X| 0.0|            ,,X|null|           null|null|           null|null|           null|null|           null|null|           null|null|           null|null|           null|null|           null|\n",
            "|ACW00011647|1957-09-06|17.13333|-61.78333|     19.2|ST JOHNS, AC|  8.0|            ,,X| 0.0|            ,,X| 0.0|            ,,X|null|           null|null|           null|null|           null|null|           null|null|           null|null|           null|null|           null|null|           null|\n",
            "|ACW00011647|1957-09-07|17.13333|-61.78333|     19.2|ST JOHNS, AC|107.0|            ,,X| 0.0|            ,,X| 0.0|            ,,X|null|           null|null|           null|null|           null|null|           null|null|           null|null|           null|null|           null|null|           null|\n",
            "|ACW00011647|1957-09-08|17.13333|-61.78333|     19.2|ST JOHNS, AC|  5.0|            ,,X| 0.0|            ,,X| 0.0|            ,,X|null|           null|null|           null|null|           null|null|           null|null|           null|null|           null|null|           null|null|           null|\n",
            "|ACW00011647|1957-09-09|17.13333|-61.78333|     19.2|ST JOHNS, AC|  0.0|            ,,X| 0.0|            ,,X| 0.0|            ,,X|null|           null|null|           null|null|           null|null|           null|null|           null|null|           null|null|           null|null|           null|\n",
            "|ACW00011647|1957-09-10|17.13333|-61.78333|     19.2|ST JOHNS, AC|157.0|            ,,X| 0.0|            ,,X| 0.0|            ,,X|null|           null|null|           null|null|           null|null|           null|null|           null|null|           null|null|           null|null|           null|\n",
            "+-----------+----------+--------+---------+---------+------------+-----+---------------+----+---------------+----+---------------+----+---------------+----+---------------+----+---------------+----+---------------+----+---------------+----+---------------+----+---------------+----+---------------+\n",
            "only showing top 10 rows\n",
            "\n"
          ]
        }
      ],
      "source": [
        "all_daily.show(10)"
      ]
    },
    {
      "cell_type": "markdown",
      "source": [
        "Here I filter the daily dataset for only the closest station. This takes a long time to run (about 41 minutes) in Colab because it's not utilizing distributed computer like a HPC. I save the result of this filter into my Google Drive for faster access future access. You can load that in the next section instead of running the below cells."
      ],
      "metadata": {
        "id": "sfaxJfABE4Xz"
      }
    },
    {
      "cell_type": "code",
      "execution_count": null,
      "metadata": {
        "id": "TrgY3acPL5yf"
      },
      "outputs": [],
      "source": [
        "# Takes ~41 mins to run in Colab since it's not distributed\n",
        "all_daily_filtered = all_daily.filter(all_daily.STATION == closest_station['ID'])\\\n",
        "  .select(\"STATION\",\"DATE\", \"PRCP\", \"SNOW\", \"SNWD\", \"TMAX\", \"TMIN\", \"WDFG\", \"WSFG\")\n",
        "\n",
        "all_daily_filtered.write.csv(\"/content/all_daily_filtered\")"
      ]
    },
    {
      "cell_type": "code",
      "execution_count": null,
      "metadata": {
        "colab": {
          "base_uri": "https://localhost:8080/",
          "height": 35
        },
        "id": "DGK9AHIQJeFR",
        "outputId": "d3966bf2-1c82-41fc-8ab6-e4be04a071f4"
      },
      "outputs": [
        {
          "data": {
            "application/vnd.google.colaboratory.intrinsic+json": {
              "type": "string"
            },
            "text/plain": [
              "'/content/drive/MyDrive/part-00000-903964e9-0b7e-47a9-ad04-6c77a793cb51-c000.csv'"
            ]
          },
          "execution_count": 57,
          "metadata": {},
          "output_type": "execute_result"
        }
      ],
      "source": [
        "# optional save to drive - need to replace file name with the one that spark creates for you\n",
        "# you can do some fancier find with wildcard and rename to guarantee the filename\n",
        "import shutil\n",
        "colab_link = \"/content/all_daily_filtered/part-00000-903964e9-0b7e-47a9-ad04-6c77a793cb51-c000.csv\"\n",
        "gdrive_link = \"/content/drive/MyDrive/\"   \n",
        "shutil.copy(colab_link, gdrive_link)"
      ]
    },
    {
      "cell_type": "markdown",
      "metadata": {
        "id": "l-ib7O_vz94C"
      },
      "source": [
        "I renamed the SF version in my drive to \"all_daily_SF.csv\"."
      ]
    },
    {
      "cell_type": "markdown",
      "metadata": {
        "id": "pptWdkkqJAds"
      },
      "source": [
        "## Load Filtered Data"
      ]
    },
    {
      "cell_type": "code",
      "execution_count": 6,
      "metadata": {
        "id": "6AmhuvPADorg"
      },
      "outputs": [],
      "source": [
        "schema_single = StructType([\n",
        "    StructField('STATION', StringType()),\n",
        "    StructField('DATE', DateType()),\n",
        "    StructField('PRCP', DoubleType()),\n",
        "    StructField('SNOW', DoubleType()),\n",
        "    StructField('SNWD', DoubleType()),\n",
        "    StructField('TMAX', DoubleType()),\n",
        "    StructField('TMIN', DoubleType()),\n",
        "    StructField('WDFG', DoubleType()),\n",
        "    StructField('WSFG', DoubleType())\n",
        "])"
      ]
    },
    {
      "cell_type": "code",
      "execution_count": null,
      "metadata": {
        "id": "xlkUZw2qDbBV"
      },
      "outputs": [],
      "source": [
        "all_daily_single = spark.read.csv(path=\"/content/all_daily_filtered\", schema=schema_single, header=True)"
      ]
    },
    {
      "cell_type": "markdown",
      "metadata": {
        "id": "OOCX4J7yVqME"
      },
      "source": [
        "If you wish to download my saved SF Filter instead of running the spark filtering which takes a while:"
      ]
    },
    {
      "cell_type": "code",
      "execution_count": 7,
      "metadata": {
        "colab": {
          "base_uri": "https://localhost:8080/"
        },
        "id": "S2MyCCwVKTTK",
        "outputId": "b3560dec-b897-4c11-9400-7e4979bb887f"
      },
      "outputs": [
        {
          "output_type": "stream",
          "name": "stdout",
          "text": [
            "Downloading...\n",
            "From: https://drive.google.com/uc?id=1--eDRH9SX6Fm4EzG4PKMEH-gFYyGbXTA\n",
            "To: /content/all_daily_SF.csv\n",
            "\r  0% 0.00/1.74M [00:00<?, ?B/s]\r100% 1.74M/1.74M [00:00<00:00, 146MB/s]\n"
          ]
        }
      ],
      "source": [
        "if not os.path.exists(\"/content/all_daily_filtered/_SUCCESS\"):\n",
        "  !gdown 1--eDRH9SX6Fm4EzG4PKMEH-gFYyGbXTA\n",
        "  all_daily_single = spark.read.csv(path=\"/content/all_daily_SF.csv\", schema=schema_single, header=True)"
      ]
    },
    {
      "cell_type": "code",
      "execution_count": 8,
      "metadata": {
        "colab": {
          "base_uri": "https://localhost:8080/"
        },
        "id": "gsHGT-IQEH_f",
        "outputId": "3896867c-9f7c-4e07-a043-b08b79bf47b1"
      },
      "outputs": [
        {
          "output_type": "stream",
          "name": "stdout",
          "text": [
            "+-----------+----------+----+----+----+-----+-----+----+----+\n",
            "|    STATION|      DATE|PRCP|SNOW|SNWD| TMAX| TMIN|WDFG|WSFG|\n",
            "+-----------+----------+----+----+----+-----+-----+----+----+\n",
            "|USW00023272|1921-01-02| 0.0| 0.0|null|122.0| 78.0|null|null|\n",
            "|USW00023272|1921-01-03| 0.0| 0.0|null|156.0|100.0|null|null|\n",
            "|USW00023272|1921-01-04| 0.0| 0.0|null|161.0| 83.0|null|null|\n",
            "|USW00023272|1921-01-05|97.0| 0.0|null|122.0| 83.0|null|null|\n",
            "|USW00023272|1921-01-06| 3.0| 0.0|null|106.0| 61.0|null|null|\n",
            "+-----------+----------+----+----+----+-----+-----+----+----+\n",
            "only showing top 5 rows\n",
            "\n"
          ]
        }
      ],
      "source": [
        "all_daily_single.show(5)"
      ]
    },
    {
      "cell_type": "markdown",
      "source": [
        "Some summary statistics of the dataset. Many 0 values for SNOW, snow depth, and percipitation which makes sense in San Francisco where it rarely rains and almost never snows. Wind direction is hevaily mission and wind speed has about 10 years of data."
      ],
      "metadata": {
        "id": "sut1IpJyFarl"
      }
    },
    {
      "cell_type": "code",
      "execution_count": 9,
      "metadata": {
        "colab": {
          "base_uri": "https://localhost:8080/"
        },
        "id": "pN1j1MIfJjV6",
        "outputId": "f96c1617-e4a1-41e8-95c3-4090060644c8"
      },
      "outputs": [
        {
          "output_type": "stream",
          "name": "stdout",
          "text": [
            "+-------+------------------+--------------------+-----+------------------+------------------+-----------------+-----------------+\n",
            "|summary|              PRCP|                SNOW| SNWD|              TMAX|              TMIN|             WDFG|             WSFG|\n",
            "+-------+------------------+--------------------+-----+------------------+------------------+-----------------+-----------------+\n",
            "|  count|             37344|               21067|21149|             37353|             37353|                5|             3650|\n",
            "|   mean|14.826585261353898|0.001329092894099...|  0.0|176.14965330763258|106.59408882820657|            128.2|67.44410958904109|\n",
            "| stddev| 54.91181932436536| 0.14840568354905787|  0.0| 42.31800304630658|25.144253754340003|71.46117827184212|32.22318331552719|\n",
            "|    min|               0.0|                 0.0|  0.0|              17.0|             -50.0|             30.0|              0.0|\n",
            "|    25%|               0.0|                 0.0|  0.0|             150.0|              89.0|             89.0|             47.0|\n",
            "|    50%|               0.0|                 0.0|  0.0|             172.0|             111.0|            130.0|             77.0|\n",
            "|    75%|               0.0|                 0.0|  0.0|             194.0|             122.0|            191.0|             97.0|\n",
            "|    max|            1407.0|                20.0|  0.0|             411.0|             239.0|            201.0|            100.0|\n",
            "+-------+------------------+--------------------+-----+------------------+------------------+-----------------+-----------------+\n",
            "\n"
          ]
        }
      ],
      "source": [
        "all_daily_single.select(\"DATE\", \"PRCP\", \"SNOW\", \"SNWD\", \"TMAX\", \"TMIN\", \"WDFG\", \"WSFG\").summary().show()"
      ]
    },
    {
      "cell_type": "markdown",
      "source": [
        "Missing values in the dataset are also indicated by -9999 which isn't present here so we don't have to worry about those for the SF subset at least."
      ],
      "metadata": {
        "id": "BI-USTFO6uwT"
      }
    },
    {
      "cell_type": "code",
      "execution_count": null,
      "metadata": {
        "colab": {
          "base_uri": "https://localhost:8080/"
        },
        "id": "tlrriqyUWUT_",
        "outputId": "b858b594-db73-4c0f-83e2-f477f2de42cd"
      },
      "outputs": [
        {
          "data": {
            "text/plain": [
              "37355"
            ]
          },
          "execution_count": 10,
          "metadata": {},
          "output_type": "execute_result"
        }
      ],
      "source": [
        "all_daily_single.count()"
      ]
    },
    {
      "cell_type": "markdown",
      "source": [
        "Here I convert for use in Pandas."
      ],
      "metadata": {
        "id": "trTlM06hFxMi"
      }
    },
    {
      "cell_type": "code",
      "execution_count": 10,
      "metadata": {
        "colab": {
          "base_uri": "https://localhost:8080/",
          "height": 206
        },
        "id": "frOs2rbrLu2w",
        "outputId": "8f638086-fae1-4748-d89c-0871b037b558"
      },
      "outputs": [
        {
          "output_type": "execute_result",
          "data": {
            "text/plain": [
              "       STATION        DATE  PRCP  SNOW  SNWD   TMAX   TMIN  WDFG  WSFG\n",
              "0  USW00023272  1921-01-02   0.0   0.0   NaN  122.0   78.0   NaN   NaN\n",
              "1  USW00023272  1921-01-03   0.0   0.0   NaN  156.0  100.0   NaN   NaN\n",
              "2  USW00023272  1921-01-04   0.0   0.0   NaN  161.0   83.0   NaN   NaN\n",
              "3  USW00023272  1921-01-05  97.0   0.0   NaN  122.0   83.0   NaN   NaN\n",
              "4  USW00023272  1921-01-06   3.0   0.0   NaN  106.0   61.0   NaN   NaN"
            ],
            "text/html": [
              "\n",
              "  <div id=\"df-a40caf94-061c-4980-b1da-89e8bba56d1c\">\n",
              "    <div class=\"colab-df-container\">\n",
              "      <div>\n",
              "<style scoped>\n",
              "    .dataframe tbody tr th:only-of-type {\n",
              "        vertical-align: middle;\n",
              "    }\n",
              "\n",
              "    .dataframe tbody tr th {\n",
              "        vertical-align: top;\n",
              "    }\n",
              "\n",
              "    .dataframe thead th {\n",
              "        text-align: right;\n",
              "    }\n",
              "</style>\n",
              "<table border=\"1\" class=\"dataframe\">\n",
              "  <thead>\n",
              "    <tr style=\"text-align: right;\">\n",
              "      <th></th>\n",
              "      <th>STATION</th>\n",
              "      <th>DATE</th>\n",
              "      <th>PRCP</th>\n",
              "      <th>SNOW</th>\n",
              "      <th>SNWD</th>\n",
              "      <th>TMAX</th>\n",
              "      <th>TMIN</th>\n",
              "      <th>WDFG</th>\n",
              "      <th>WSFG</th>\n",
              "    </tr>\n",
              "  </thead>\n",
              "  <tbody>\n",
              "    <tr>\n",
              "      <th>0</th>\n",
              "      <td>USW00023272</td>\n",
              "      <td>1921-01-02</td>\n",
              "      <td>0.0</td>\n",
              "      <td>0.0</td>\n",
              "      <td>NaN</td>\n",
              "      <td>122.0</td>\n",
              "      <td>78.0</td>\n",
              "      <td>NaN</td>\n",
              "      <td>NaN</td>\n",
              "    </tr>\n",
              "    <tr>\n",
              "      <th>1</th>\n",
              "      <td>USW00023272</td>\n",
              "      <td>1921-01-03</td>\n",
              "      <td>0.0</td>\n",
              "      <td>0.0</td>\n",
              "      <td>NaN</td>\n",
              "      <td>156.0</td>\n",
              "      <td>100.0</td>\n",
              "      <td>NaN</td>\n",
              "      <td>NaN</td>\n",
              "    </tr>\n",
              "    <tr>\n",
              "      <th>2</th>\n",
              "      <td>USW00023272</td>\n",
              "      <td>1921-01-04</td>\n",
              "      <td>0.0</td>\n",
              "      <td>0.0</td>\n",
              "      <td>NaN</td>\n",
              "      <td>161.0</td>\n",
              "      <td>83.0</td>\n",
              "      <td>NaN</td>\n",
              "      <td>NaN</td>\n",
              "    </tr>\n",
              "    <tr>\n",
              "      <th>3</th>\n",
              "      <td>USW00023272</td>\n",
              "      <td>1921-01-05</td>\n",
              "      <td>97.0</td>\n",
              "      <td>0.0</td>\n",
              "      <td>NaN</td>\n",
              "      <td>122.0</td>\n",
              "      <td>83.0</td>\n",
              "      <td>NaN</td>\n",
              "      <td>NaN</td>\n",
              "    </tr>\n",
              "    <tr>\n",
              "      <th>4</th>\n",
              "      <td>USW00023272</td>\n",
              "      <td>1921-01-06</td>\n",
              "      <td>3.0</td>\n",
              "      <td>0.0</td>\n",
              "      <td>NaN</td>\n",
              "      <td>106.0</td>\n",
              "      <td>61.0</td>\n",
              "      <td>NaN</td>\n",
              "      <td>NaN</td>\n",
              "    </tr>\n",
              "  </tbody>\n",
              "</table>\n",
              "</div>\n",
              "      <button class=\"colab-df-convert\" onclick=\"convertToInteractive('df-a40caf94-061c-4980-b1da-89e8bba56d1c')\"\n",
              "              title=\"Convert this dataframe to an interactive table.\"\n",
              "              style=\"display:none;\">\n",
              "        \n",
              "  <svg xmlns=\"http://www.w3.org/2000/svg\" height=\"24px\"viewBox=\"0 0 24 24\"\n",
              "       width=\"24px\">\n",
              "    <path d=\"M0 0h24v24H0V0z\" fill=\"none\"/>\n",
              "    <path d=\"M18.56 5.44l.94 2.06.94-2.06 2.06-.94-2.06-.94-.94-2.06-.94 2.06-2.06.94zm-11 1L8.5 8.5l.94-2.06 2.06-.94-2.06-.94L8.5 2.5l-.94 2.06-2.06.94zm10 10l.94 2.06.94-2.06 2.06-.94-2.06-.94-.94-2.06-.94 2.06-2.06.94z\"/><path d=\"M17.41 7.96l-1.37-1.37c-.4-.4-.92-.59-1.43-.59-.52 0-1.04.2-1.43.59L10.3 9.45l-7.72 7.72c-.78.78-.78 2.05 0 2.83L4 21.41c.39.39.9.59 1.41.59.51 0 1.02-.2 1.41-.59l7.78-7.78 2.81-2.81c.8-.78.8-2.07 0-2.86zM5.41 20L4 18.59l7.72-7.72 1.47 1.35L5.41 20z\"/>\n",
              "  </svg>\n",
              "      </button>\n",
              "      \n",
              "  <style>\n",
              "    .colab-df-container {\n",
              "      display:flex;\n",
              "      flex-wrap:wrap;\n",
              "      gap: 12px;\n",
              "    }\n",
              "\n",
              "    .colab-df-convert {\n",
              "      background-color: #E8F0FE;\n",
              "      border: none;\n",
              "      border-radius: 50%;\n",
              "      cursor: pointer;\n",
              "      display: none;\n",
              "      fill: #1967D2;\n",
              "      height: 32px;\n",
              "      padding: 0 0 0 0;\n",
              "      width: 32px;\n",
              "    }\n",
              "\n",
              "    .colab-df-convert:hover {\n",
              "      background-color: #E2EBFA;\n",
              "      box-shadow: 0px 1px 2px rgba(60, 64, 67, 0.3), 0px 1px 3px 1px rgba(60, 64, 67, 0.15);\n",
              "      fill: #174EA6;\n",
              "    }\n",
              "\n",
              "    [theme=dark] .colab-df-convert {\n",
              "      background-color: #3B4455;\n",
              "      fill: #D2E3FC;\n",
              "    }\n",
              "\n",
              "    [theme=dark] .colab-df-convert:hover {\n",
              "      background-color: #434B5C;\n",
              "      box-shadow: 0px 1px 3px 1px rgba(0, 0, 0, 0.15);\n",
              "      filter: drop-shadow(0px 1px 2px rgba(0, 0, 0, 0.3));\n",
              "      fill: #FFFFFF;\n",
              "    }\n",
              "  </style>\n",
              "\n",
              "      <script>\n",
              "        const buttonEl =\n",
              "          document.querySelector('#df-a40caf94-061c-4980-b1da-89e8bba56d1c button.colab-df-convert');\n",
              "        buttonEl.style.display =\n",
              "          google.colab.kernel.accessAllowed ? 'block' : 'none';\n",
              "\n",
              "        async function convertToInteractive(key) {\n",
              "          const element = document.querySelector('#df-a40caf94-061c-4980-b1da-89e8bba56d1c');\n",
              "          const dataTable =\n",
              "            await google.colab.kernel.invokeFunction('convertToInteractive',\n",
              "                                                     [key], {});\n",
              "          if (!dataTable) return;\n",
              "\n",
              "          const docLinkHtml = 'Like what you see? Visit the ' +\n",
              "            '<a target=\"_blank\" href=https://colab.research.google.com/notebooks/data_table.ipynb>data table notebook</a>'\n",
              "            + ' to learn more about interactive tables.';\n",
              "          element.innerHTML = '';\n",
              "          dataTable['output_type'] = 'display_data';\n",
              "          await google.colab.output.renderOutput(dataTable, element);\n",
              "          const docLink = document.createElement('div');\n",
              "          docLink.innerHTML = docLinkHtml;\n",
              "          element.appendChild(docLink);\n",
              "        }\n",
              "      </script>\n",
              "    </div>\n",
              "  </div>\n",
              "  "
            ]
          },
          "metadata": {},
          "execution_count": 10
        }
      ],
      "source": [
        "df = all_daily_single.toPandas()\n",
        "df.head()"
      ]
    },
    {
      "cell_type": "markdown",
      "source": [
        "I will make two datasets: one where I do not keep windspeed and one where I keep windspeed so a smaller 10 year data set. I will not be using SNOW, SNWD, not WDFG as they are either too incomplete in the case of WDFG (Wind Direction) or not relevant in San Francisco such as SNOW and SNWD."
      ],
      "metadata": {
        "id": "bq1XpeBcNdt-"
      }
    },
    {
      "cell_type": "code",
      "execution_count": 17,
      "metadata": {
        "colab": {
          "base_uri": "https://localhost:8080/",
          "height": 206
        },
        "id": "sNXZ6q_UL9fq",
        "outputId": "8f538b77-8bef-4f41-e2b7-a1f0c9aed964"
      },
      "outputs": [
        {
          "output_type": "execute_result",
          "data": {
            "text/plain": [
              "         DATE  PRCP   TMAX   TMIN\n",
              "0  1921-01-02   0.0  122.0   78.0\n",
              "1  1921-01-03   0.0  156.0  100.0\n",
              "2  1921-01-04   0.0  161.0   83.0\n",
              "3  1921-01-05  97.0  122.0   83.0\n",
              "4  1921-01-06   3.0  106.0   61.0"
            ],
            "text/html": [
              "\n",
              "  <div id=\"df-fa64f40a-6267-4164-8457-ca33e32f6ef8\">\n",
              "    <div class=\"colab-df-container\">\n",
              "      <div>\n",
              "<style scoped>\n",
              "    .dataframe tbody tr th:only-of-type {\n",
              "        vertical-align: middle;\n",
              "    }\n",
              "\n",
              "    .dataframe tbody tr th {\n",
              "        vertical-align: top;\n",
              "    }\n",
              "\n",
              "    .dataframe thead th {\n",
              "        text-align: right;\n",
              "    }\n",
              "</style>\n",
              "<table border=\"1\" class=\"dataframe\">\n",
              "  <thead>\n",
              "    <tr style=\"text-align: right;\">\n",
              "      <th></th>\n",
              "      <th>DATE</th>\n",
              "      <th>PRCP</th>\n",
              "      <th>TMAX</th>\n",
              "      <th>TMIN</th>\n",
              "    </tr>\n",
              "  </thead>\n",
              "  <tbody>\n",
              "    <tr>\n",
              "      <th>0</th>\n",
              "      <td>1921-01-02</td>\n",
              "      <td>0.0</td>\n",
              "      <td>122.0</td>\n",
              "      <td>78.0</td>\n",
              "    </tr>\n",
              "    <tr>\n",
              "      <th>1</th>\n",
              "      <td>1921-01-03</td>\n",
              "      <td>0.0</td>\n",
              "      <td>156.0</td>\n",
              "      <td>100.0</td>\n",
              "    </tr>\n",
              "    <tr>\n",
              "      <th>2</th>\n",
              "      <td>1921-01-04</td>\n",
              "      <td>0.0</td>\n",
              "      <td>161.0</td>\n",
              "      <td>83.0</td>\n",
              "    </tr>\n",
              "    <tr>\n",
              "      <th>3</th>\n",
              "      <td>1921-01-05</td>\n",
              "      <td>97.0</td>\n",
              "      <td>122.0</td>\n",
              "      <td>83.0</td>\n",
              "    </tr>\n",
              "    <tr>\n",
              "      <th>4</th>\n",
              "      <td>1921-01-06</td>\n",
              "      <td>3.0</td>\n",
              "      <td>106.0</td>\n",
              "      <td>61.0</td>\n",
              "    </tr>\n",
              "  </tbody>\n",
              "</table>\n",
              "</div>\n",
              "      <button class=\"colab-df-convert\" onclick=\"convertToInteractive('df-fa64f40a-6267-4164-8457-ca33e32f6ef8')\"\n",
              "              title=\"Convert this dataframe to an interactive table.\"\n",
              "              style=\"display:none;\">\n",
              "        \n",
              "  <svg xmlns=\"http://www.w3.org/2000/svg\" height=\"24px\"viewBox=\"0 0 24 24\"\n",
              "       width=\"24px\">\n",
              "    <path d=\"M0 0h24v24H0V0z\" fill=\"none\"/>\n",
              "    <path d=\"M18.56 5.44l.94 2.06.94-2.06 2.06-.94-2.06-.94-.94-2.06-.94 2.06-2.06.94zm-11 1L8.5 8.5l.94-2.06 2.06-.94-2.06-.94L8.5 2.5l-.94 2.06-2.06.94zm10 10l.94 2.06.94-2.06 2.06-.94-2.06-.94-.94-2.06-.94 2.06-2.06.94z\"/><path d=\"M17.41 7.96l-1.37-1.37c-.4-.4-.92-.59-1.43-.59-.52 0-1.04.2-1.43.59L10.3 9.45l-7.72 7.72c-.78.78-.78 2.05 0 2.83L4 21.41c.39.39.9.59 1.41.59.51 0 1.02-.2 1.41-.59l7.78-7.78 2.81-2.81c.8-.78.8-2.07 0-2.86zM5.41 20L4 18.59l7.72-7.72 1.47 1.35L5.41 20z\"/>\n",
              "  </svg>\n",
              "      </button>\n",
              "      \n",
              "  <style>\n",
              "    .colab-df-container {\n",
              "      display:flex;\n",
              "      flex-wrap:wrap;\n",
              "      gap: 12px;\n",
              "    }\n",
              "\n",
              "    .colab-df-convert {\n",
              "      background-color: #E8F0FE;\n",
              "      border: none;\n",
              "      border-radius: 50%;\n",
              "      cursor: pointer;\n",
              "      display: none;\n",
              "      fill: #1967D2;\n",
              "      height: 32px;\n",
              "      padding: 0 0 0 0;\n",
              "      width: 32px;\n",
              "    }\n",
              "\n",
              "    .colab-df-convert:hover {\n",
              "      background-color: #E2EBFA;\n",
              "      box-shadow: 0px 1px 2px rgba(60, 64, 67, 0.3), 0px 1px 3px 1px rgba(60, 64, 67, 0.15);\n",
              "      fill: #174EA6;\n",
              "    }\n",
              "\n",
              "    [theme=dark] .colab-df-convert {\n",
              "      background-color: #3B4455;\n",
              "      fill: #D2E3FC;\n",
              "    }\n",
              "\n",
              "    [theme=dark] .colab-df-convert:hover {\n",
              "      background-color: #434B5C;\n",
              "      box-shadow: 0px 1px 3px 1px rgba(0, 0, 0, 0.15);\n",
              "      filter: drop-shadow(0px 1px 2px rgba(0, 0, 0, 0.3));\n",
              "      fill: #FFFFFF;\n",
              "    }\n",
              "  </style>\n",
              "\n",
              "      <script>\n",
              "        const buttonEl =\n",
              "          document.querySelector('#df-fa64f40a-6267-4164-8457-ca33e32f6ef8 button.colab-df-convert');\n",
              "        buttonEl.style.display =\n",
              "          google.colab.kernel.accessAllowed ? 'block' : 'none';\n",
              "\n",
              "        async function convertToInteractive(key) {\n",
              "          const element = document.querySelector('#df-fa64f40a-6267-4164-8457-ca33e32f6ef8');\n",
              "          const dataTable =\n",
              "            await google.colab.kernel.invokeFunction('convertToInteractive',\n",
              "                                                     [key], {});\n",
              "          if (!dataTable) return;\n",
              "\n",
              "          const docLinkHtml = 'Like what you see? Visit the ' +\n",
              "            '<a target=\"_blank\" href=https://colab.research.google.com/notebooks/data_table.ipynb>data table notebook</a>'\n",
              "            + ' to learn more about interactive tables.';\n",
              "          element.innerHTML = '';\n",
              "          dataTable['output_type'] = 'display_data';\n",
              "          await google.colab.output.renderOutput(dataTable, element);\n",
              "          const docLink = document.createElement('div');\n",
              "          docLink.innerHTML = docLinkHtml;\n",
              "          element.appendChild(docLink);\n",
              "        }\n",
              "      </script>\n",
              "    </div>\n",
              "  </div>\n",
              "  "
            ]
          },
          "metadata": {},
          "execution_count": 17
        }
      ],
      "source": [
        "df_prcp_tmp = df.drop(['STATION', 'SNOW', 'SNWD', 'WDFG', 'WSFG'], axis=1)\n",
        "df_prcp_tmp.head()"
      ]
    },
    {
      "cell_type": "code",
      "execution_count": 18,
      "metadata": {
        "colab": {
          "base_uri": "https://localhost:8080/"
        },
        "id": "Fu51SdHKSZwn",
        "outputId": "b48eb030-73ef-4e46-e640-053a102f411a"
      },
      "outputs": [
        {
          "output_type": "execute_result",
          "data": {
            "text/plain": [
              "0    1921-01-02\n",
              "1    1921-01-03\n",
              "2    1921-01-04\n",
              "3    1921-01-05\n",
              "4    1921-01-06\n",
              "Name: DATE, dtype: object"
            ]
          },
          "metadata": {},
          "execution_count": 18
        }
      ],
      "source": [
        "dates = df_prcp_tmp.pop(\"DATE\")\n",
        "dates.head()"
      ]
    },
    {
      "cell_type": "code",
      "execution_count": 19,
      "metadata": {
        "colab": {
          "base_uri": "https://localhost:8080/",
          "height": 206
        },
        "id": "Uv8r9BCtc_pw",
        "outputId": "620687e9-84d3-4c6b-8c66-b815173f205b"
      },
      "outputs": [
        {
          "output_type": "execute_result",
          "data": {
            "text/plain": [
              "   PRCP   TMAX   TMIN\n",
              "0   0.0  122.0   78.0\n",
              "1   0.0  156.0  100.0\n",
              "2   0.0  161.0   83.0\n",
              "3  97.0  122.0   83.0\n",
              "4   3.0  106.0   61.0"
            ],
            "text/html": [
              "\n",
              "  <div id=\"df-0cad7068-da71-416a-b714-327e2e20221d\">\n",
              "    <div class=\"colab-df-container\">\n",
              "      <div>\n",
              "<style scoped>\n",
              "    .dataframe tbody tr th:only-of-type {\n",
              "        vertical-align: middle;\n",
              "    }\n",
              "\n",
              "    .dataframe tbody tr th {\n",
              "        vertical-align: top;\n",
              "    }\n",
              "\n",
              "    .dataframe thead th {\n",
              "        text-align: right;\n",
              "    }\n",
              "</style>\n",
              "<table border=\"1\" class=\"dataframe\">\n",
              "  <thead>\n",
              "    <tr style=\"text-align: right;\">\n",
              "      <th></th>\n",
              "      <th>PRCP</th>\n",
              "      <th>TMAX</th>\n",
              "      <th>TMIN</th>\n",
              "    </tr>\n",
              "  </thead>\n",
              "  <tbody>\n",
              "    <tr>\n",
              "      <th>0</th>\n",
              "      <td>0.0</td>\n",
              "      <td>122.0</td>\n",
              "      <td>78.0</td>\n",
              "    </tr>\n",
              "    <tr>\n",
              "      <th>1</th>\n",
              "      <td>0.0</td>\n",
              "      <td>156.0</td>\n",
              "      <td>100.0</td>\n",
              "    </tr>\n",
              "    <tr>\n",
              "      <th>2</th>\n",
              "      <td>0.0</td>\n",
              "      <td>161.0</td>\n",
              "      <td>83.0</td>\n",
              "    </tr>\n",
              "    <tr>\n",
              "      <th>3</th>\n",
              "      <td>97.0</td>\n",
              "      <td>122.0</td>\n",
              "      <td>83.0</td>\n",
              "    </tr>\n",
              "    <tr>\n",
              "      <th>4</th>\n",
              "      <td>3.0</td>\n",
              "      <td>106.0</td>\n",
              "      <td>61.0</td>\n",
              "    </tr>\n",
              "  </tbody>\n",
              "</table>\n",
              "</div>\n",
              "      <button class=\"colab-df-convert\" onclick=\"convertToInteractive('df-0cad7068-da71-416a-b714-327e2e20221d')\"\n",
              "              title=\"Convert this dataframe to an interactive table.\"\n",
              "              style=\"display:none;\">\n",
              "        \n",
              "  <svg xmlns=\"http://www.w3.org/2000/svg\" height=\"24px\"viewBox=\"0 0 24 24\"\n",
              "       width=\"24px\">\n",
              "    <path d=\"M0 0h24v24H0V0z\" fill=\"none\"/>\n",
              "    <path d=\"M18.56 5.44l.94 2.06.94-2.06 2.06-.94-2.06-.94-.94-2.06-.94 2.06-2.06.94zm-11 1L8.5 8.5l.94-2.06 2.06-.94-2.06-.94L8.5 2.5l-.94 2.06-2.06.94zm10 10l.94 2.06.94-2.06 2.06-.94-2.06-.94-.94-2.06-.94 2.06-2.06.94z\"/><path d=\"M17.41 7.96l-1.37-1.37c-.4-.4-.92-.59-1.43-.59-.52 0-1.04.2-1.43.59L10.3 9.45l-7.72 7.72c-.78.78-.78 2.05 0 2.83L4 21.41c.39.39.9.59 1.41.59.51 0 1.02-.2 1.41-.59l7.78-7.78 2.81-2.81c.8-.78.8-2.07 0-2.86zM5.41 20L4 18.59l7.72-7.72 1.47 1.35L5.41 20z\"/>\n",
              "  </svg>\n",
              "      </button>\n",
              "      \n",
              "  <style>\n",
              "    .colab-df-container {\n",
              "      display:flex;\n",
              "      flex-wrap:wrap;\n",
              "      gap: 12px;\n",
              "    }\n",
              "\n",
              "    .colab-df-convert {\n",
              "      background-color: #E8F0FE;\n",
              "      border: none;\n",
              "      border-radius: 50%;\n",
              "      cursor: pointer;\n",
              "      display: none;\n",
              "      fill: #1967D2;\n",
              "      height: 32px;\n",
              "      padding: 0 0 0 0;\n",
              "      width: 32px;\n",
              "    }\n",
              "\n",
              "    .colab-df-convert:hover {\n",
              "      background-color: #E2EBFA;\n",
              "      box-shadow: 0px 1px 2px rgba(60, 64, 67, 0.3), 0px 1px 3px 1px rgba(60, 64, 67, 0.15);\n",
              "      fill: #174EA6;\n",
              "    }\n",
              "\n",
              "    [theme=dark] .colab-df-convert {\n",
              "      background-color: #3B4455;\n",
              "      fill: #D2E3FC;\n",
              "    }\n",
              "\n",
              "    [theme=dark] .colab-df-convert:hover {\n",
              "      background-color: #434B5C;\n",
              "      box-shadow: 0px 1px 3px 1px rgba(0, 0, 0, 0.15);\n",
              "      filter: drop-shadow(0px 1px 2px rgba(0, 0, 0, 0.3));\n",
              "      fill: #FFFFFF;\n",
              "    }\n",
              "  </style>\n",
              "\n",
              "      <script>\n",
              "        const buttonEl =\n",
              "          document.querySelector('#df-0cad7068-da71-416a-b714-327e2e20221d button.colab-df-convert');\n",
              "        buttonEl.style.display =\n",
              "          google.colab.kernel.accessAllowed ? 'block' : 'none';\n",
              "\n",
              "        async function convertToInteractive(key) {\n",
              "          const element = document.querySelector('#df-0cad7068-da71-416a-b714-327e2e20221d');\n",
              "          const dataTable =\n",
              "            await google.colab.kernel.invokeFunction('convertToInteractive',\n",
              "                                                     [key], {});\n",
              "          if (!dataTable) return;\n",
              "\n",
              "          const docLinkHtml = 'Like what you see? Visit the ' +\n",
              "            '<a target=\"_blank\" href=https://colab.research.google.com/notebooks/data_table.ipynb>data table notebook</a>'\n",
              "            + ' to learn more about interactive tables.';\n",
              "          element.innerHTML = '';\n",
              "          dataTable['output_type'] = 'display_data';\n",
              "          await google.colab.output.renderOutput(dataTable, element);\n",
              "          const docLink = document.createElement('div');\n",
              "          docLink.innerHTML = docLinkHtml;\n",
              "          element.appendChild(docLink);\n",
              "        }\n",
              "      </script>\n",
              "    </div>\n",
              "  </div>\n",
              "  "
            ]
          },
          "metadata": {},
          "execution_count": 19
        }
      ],
      "source": [
        "df_prcp_tmp.head()"
      ]
    },
    {
      "cell_type": "code",
      "execution_count": 20,
      "metadata": {
        "colab": {
          "base_uri": "https://localhost:8080/"
        },
        "id": "__hub9tsdDGD",
        "outputId": "c6c33d72-0825-49ff-9cca-1b5e495d6125"
      },
      "outputs": [
        {
          "output_type": "execute_result",
          "data": {
            "text/plain": [
              "count    37355.000000\n",
              "mean       182.764610\n",
              "std        105.522915\n",
              "min          1.000000\n",
              "25%         91.000000\n",
              "50%        183.000000\n",
              "75%        274.000000\n",
              "max        366.000000\n",
              "Name: DATE, dtype: float64"
            ]
          },
          "metadata": {},
          "execution_count": 20
        }
      ],
      "source": [
        "doy = pd.to_datetime(dates).dt.dayofyear\n",
        "doy.describe()"
      ]
    },
    {
      "cell_type": "markdown",
      "source": [
        "This is a Fournier Transformation of the day of year to get useable signals instead of the date as date is not very helpful for deep learning. "
      ],
      "metadata": {
        "id": "2HYG572lN7AB"
      }
    },
    {
      "cell_type": "code",
      "execution_count": 21,
      "metadata": {
        "colab": {
          "base_uri": "https://localhost:8080/",
          "height": 206
        },
        "id": "lwrBPnAAeqNi",
        "outputId": "cd150bac-dcfb-479b-c2f6-d0f353bc80ee"
      },
      "outputs": [
        {
          "output_type": "execute_result",
          "data": {
            "text/plain": [
              "    DOY_SIN   DOY_COS  PRCP   TMIN   TMAX\n",
              "0  0.034399  0.999408   0.0   78.0  122.0\n",
              "1  0.051585  0.998669   0.0  100.0  156.0\n",
              "2  0.068757  0.997633   0.0   83.0  161.0\n",
              "3  0.085908  0.996303  97.0   83.0  122.0\n",
              "4  0.103033  0.994678   3.0   61.0  106.0"
            ],
            "text/html": [
              "\n",
              "  <div id=\"df-c2a267ab-a517-414e-9a82-f9bed9a7a672\">\n",
              "    <div class=\"colab-df-container\">\n",
              "      <div>\n",
              "<style scoped>\n",
              "    .dataframe tbody tr th:only-of-type {\n",
              "        vertical-align: middle;\n",
              "    }\n",
              "\n",
              "    .dataframe tbody tr th {\n",
              "        vertical-align: top;\n",
              "    }\n",
              "\n",
              "    .dataframe thead th {\n",
              "        text-align: right;\n",
              "    }\n",
              "</style>\n",
              "<table border=\"1\" class=\"dataframe\">\n",
              "  <thead>\n",
              "    <tr style=\"text-align: right;\">\n",
              "      <th></th>\n",
              "      <th>DOY_SIN</th>\n",
              "      <th>DOY_COS</th>\n",
              "      <th>PRCP</th>\n",
              "      <th>TMIN</th>\n",
              "      <th>TMAX</th>\n",
              "    </tr>\n",
              "  </thead>\n",
              "  <tbody>\n",
              "    <tr>\n",
              "      <th>0</th>\n",
              "      <td>0.034399</td>\n",
              "      <td>0.999408</td>\n",
              "      <td>0.0</td>\n",
              "      <td>78.0</td>\n",
              "      <td>122.0</td>\n",
              "    </tr>\n",
              "    <tr>\n",
              "      <th>1</th>\n",
              "      <td>0.051585</td>\n",
              "      <td>0.998669</td>\n",
              "      <td>0.0</td>\n",
              "      <td>100.0</td>\n",
              "      <td>156.0</td>\n",
              "    </tr>\n",
              "    <tr>\n",
              "      <th>2</th>\n",
              "      <td>0.068757</td>\n",
              "      <td>0.997633</td>\n",
              "      <td>0.0</td>\n",
              "      <td>83.0</td>\n",
              "      <td>161.0</td>\n",
              "    </tr>\n",
              "    <tr>\n",
              "      <th>3</th>\n",
              "      <td>0.085908</td>\n",
              "      <td>0.996303</td>\n",
              "      <td>97.0</td>\n",
              "      <td>83.0</td>\n",
              "      <td>122.0</td>\n",
              "    </tr>\n",
              "    <tr>\n",
              "      <th>4</th>\n",
              "      <td>0.103033</td>\n",
              "      <td>0.994678</td>\n",
              "      <td>3.0</td>\n",
              "      <td>61.0</td>\n",
              "      <td>106.0</td>\n",
              "    </tr>\n",
              "  </tbody>\n",
              "</table>\n",
              "</div>\n",
              "      <button class=\"colab-df-convert\" onclick=\"convertToInteractive('df-c2a267ab-a517-414e-9a82-f9bed9a7a672')\"\n",
              "              title=\"Convert this dataframe to an interactive table.\"\n",
              "              style=\"display:none;\">\n",
              "        \n",
              "  <svg xmlns=\"http://www.w3.org/2000/svg\" height=\"24px\"viewBox=\"0 0 24 24\"\n",
              "       width=\"24px\">\n",
              "    <path d=\"M0 0h24v24H0V0z\" fill=\"none\"/>\n",
              "    <path d=\"M18.56 5.44l.94 2.06.94-2.06 2.06-.94-2.06-.94-.94-2.06-.94 2.06-2.06.94zm-11 1L8.5 8.5l.94-2.06 2.06-.94-2.06-.94L8.5 2.5l-.94 2.06-2.06.94zm10 10l.94 2.06.94-2.06 2.06-.94-2.06-.94-.94-2.06-.94 2.06-2.06.94z\"/><path d=\"M17.41 7.96l-1.37-1.37c-.4-.4-.92-.59-1.43-.59-.52 0-1.04.2-1.43.59L10.3 9.45l-7.72 7.72c-.78.78-.78 2.05 0 2.83L4 21.41c.39.39.9.59 1.41.59.51 0 1.02-.2 1.41-.59l7.78-7.78 2.81-2.81c.8-.78.8-2.07 0-2.86zM5.41 20L4 18.59l7.72-7.72 1.47 1.35L5.41 20z\"/>\n",
              "  </svg>\n",
              "      </button>\n",
              "      \n",
              "  <style>\n",
              "    .colab-df-container {\n",
              "      display:flex;\n",
              "      flex-wrap:wrap;\n",
              "      gap: 12px;\n",
              "    }\n",
              "\n",
              "    .colab-df-convert {\n",
              "      background-color: #E8F0FE;\n",
              "      border: none;\n",
              "      border-radius: 50%;\n",
              "      cursor: pointer;\n",
              "      display: none;\n",
              "      fill: #1967D2;\n",
              "      height: 32px;\n",
              "      padding: 0 0 0 0;\n",
              "      width: 32px;\n",
              "    }\n",
              "\n",
              "    .colab-df-convert:hover {\n",
              "      background-color: #E2EBFA;\n",
              "      box-shadow: 0px 1px 2px rgba(60, 64, 67, 0.3), 0px 1px 3px 1px rgba(60, 64, 67, 0.15);\n",
              "      fill: #174EA6;\n",
              "    }\n",
              "\n",
              "    [theme=dark] .colab-df-convert {\n",
              "      background-color: #3B4455;\n",
              "      fill: #D2E3FC;\n",
              "    }\n",
              "\n",
              "    [theme=dark] .colab-df-convert:hover {\n",
              "      background-color: #434B5C;\n",
              "      box-shadow: 0px 1px 3px 1px rgba(0, 0, 0, 0.15);\n",
              "      filter: drop-shadow(0px 1px 2px rgba(0, 0, 0, 0.3));\n",
              "      fill: #FFFFFF;\n",
              "    }\n",
              "  </style>\n",
              "\n",
              "      <script>\n",
              "        const buttonEl =\n",
              "          document.querySelector('#df-c2a267ab-a517-414e-9a82-f9bed9a7a672 button.colab-df-convert');\n",
              "        buttonEl.style.display =\n",
              "          google.colab.kernel.accessAllowed ? 'block' : 'none';\n",
              "\n",
              "        async function convertToInteractive(key) {\n",
              "          const element = document.querySelector('#df-c2a267ab-a517-414e-9a82-f9bed9a7a672');\n",
              "          const dataTable =\n",
              "            await google.colab.kernel.invokeFunction('convertToInteractive',\n",
              "                                                     [key], {});\n",
              "          if (!dataTable) return;\n",
              "\n",
              "          const docLinkHtml = 'Like what you see? Visit the ' +\n",
              "            '<a target=\"_blank\" href=https://colab.research.google.com/notebooks/data_table.ipynb>data table notebook</a>'\n",
              "            + ' to learn more about interactive tables.';\n",
              "          element.innerHTML = '';\n",
              "          dataTable['output_type'] = 'display_data';\n",
              "          await google.colab.output.renderOutput(dataTable, element);\n",
              "          const docLink = document.createElement('div');\n",
              "          docLink.innerHTML = docLinkHtml;\n",
              "          element.appendChild(docLink);\n",
              "        }\n",
              "      </script>\n",
              "    </div>\n",
              "  </div>\n",
              "  "
            ]
          },
          "metadata": {},
          "execution_count": 21
        }
      ],
      "source": [
        "df_prcp_tmp[\"DOY_SIN\"] = np.sin(doy * (2 * np.pi / 365.2425))\n",
        "df_prcp_tmp[\"DOY_COS\"] = np.cos(doy * (2 * np.pi / 365.2425))\n",
        "df_prcp_tmp = df_prcp_tmp[['DOY_SIN', 'DOY_COS', 'PRCP', 'TMIN', 'TMAX']]\n",
        "df_prcp_tmp.head()"
      ]
    },
    {
      "cell_type": "markdown",
      "source": [
        "Some histograms of the data:"
      ],
      "metadata": {
        "id": "LW-DeQiLOTNF"
      }
    },
    {
      "cell_type": "code",
      "execution_count": 22,
      "metadata": {
        "colab": {
          "base_uri": "https://localhost:8080/",
          "height": 939
        },
        "id": "uPfJcryDEL2s",
        "outputId": "5cb9914a-bc2a-4bb3-b065-5076359a3dfa"
      },
      "outputs": [
        {
          "output_type": "execute_result",
          "data": {
            "text/plain": [
              "array([[<Axes: title={'center': 'DOY_SIN'}>,\n",
              "        <Axes: title={'center': 'DOY_COS'}>],\n",
              "       [<Axes: title={'center': 'PRCP'}>,\n",
              "        <Axes: title={'center': 'TMIN'}>],\n",
              "       [<Axes: title={'center': 'TMAX'}>, <Axes: >]], dtype=object)"
            ]
          },
          "metadata": {},
          "execution_count": 22
        },
        {
          "output_type": "display_data",
          "data": {
            "text/plain": [
              "<Figure size 1500x1000 with 6 Axes>"
            ],
            "image/png": "[encoded data removed]"
          },
          "metadata": {}
        }
      ],
      "source": [
        "df_prcp_tmp.hist(bins=100, figsize=(15,10))"
      ]
    },
    {
      "cell_type": "markdown",
      "source": [
        "Some things to note is percipitation is heavily skewed right with most values being zero which may be a problem for normalization. The rest seem more or less fine. Google's tutorial also normalized the Fournier Transformations so I will do that too."
      ],
      "metadata": {
        "id": "89KQ9-ntn49f"
      }
    },
    {
      "cell_type": "code",
      "execution_count": null,
      "metadata": {
        "colab": {
          "base_uri": "https://localhost:8080/"
        },
        "id": "hKNqeBfxP6kq",
        "outputId": "d1af2e78-f5de-423f-e221-ce47815f3f01"
      },
      "outputs": [
        {
          "data": {
            "text/plain": [
              "37355"
            ]
          },
          "execution_count": 17,
          "metadata": {},
          "output_type": "execute_result"
        }
      ],
      "source": [
        "n = len(df_prcp_tmp)\n",
        "n"
      ]
    },
    {
      "cell_type": "markdown",
      "source": [
        "I will repeat the process but with only the subset where WSFG windspeed is collected. As we can see below, this subset only runs from the first day of 1965 to the last day of 1974, which is exactly 10 years. I don't know why they stopped collecting wind speed afterward."
      ],
      "metadata": {
        "id": "kqDfNZnYOaCQ"
      }
    },
    {
      "cell_type": "code",
      "source": [
        "df_wsfg = df[df['WSFG'].notna()]\n",
        "df_wsfg "
      ],
      "metadata": {
        "colab": {
          "base_uri": "https://localhost:8080/",
          "height": 424
        },
        "id": "_j8eofhc6Nj4",
        "outputId": "73e6e8d3-47fa-4e15-e0eb-a5e0d7124854"
      },
      "execution_count": 11,
      "outputs": [
        {
          "output_type": "execute_result",
          "data": {
            "text/plain": [
              "           STATION        DATE   PRCP  SNOW  SNWD   TMAX   TMIN  WDFG   WSFG\n",
              "16070  USW00023272  1965-01-01    0.0   0.0   0.0   89.0   44.0   NaN   84.0\n",
              "16071  USW00023272  1965-01-02  206.0   0.0   0.0  106.0   67.0   NaN    0.0\n",
              "16072  USW00023272  1965-01-03  203.0   0.0   0.0  122.0  100.0   NaN   28.0\n",
              "16073  USW00023272  1965-01-04  157.0   0.0   0.0  139.0  100.0   NaN   13.0\n",
              "16074  USW00023272  1965-01-05   97.0   0.0   0.0  150.0  122.0   NaN    1.0\n",
              "...            ...         ...    ...   ...   ...    ...    ...   ...    ...\n",
              "19717  USW00023272  1974-12-27  183.0   NaN   NaN  122.0   83.0   NaN    0.0\n",
              "19718  USW00023272  1974-12-28    0.0   NaN   NaN  111.0   61.0   NaN   42.0\n",
              "19719  USW00023272  1974-12-29    0.0   NaN   NaN  139.0   78.0   NaN   92.0\n",
              "19720  USW00023272  1974-12-30    0.0   NaN   NaN  122.0   61.0   NaN   50.0\n",
              "19721  USW00023272  1974-12-31    0.0   NaN   NaN  139.0   83.0   NaN  100.0\n",
              "\n",
              "[3650 rows x 9 columns]"
            ],
            "text/html": [
              "\n",
              "  <div id=\"df-e013f41d-2ad1-4625-81e0-7e63b12c0d07\">\n",
              "    <div class=\"colab-df-container\">\n",
              "      <div>\n",
              "<style scoped>\n",
              "    .dataframe tbody tr th:only-of-type {\n",
              "        vertical-align: middle;\n",
              "    }\n",
              "\n",
              "    .dataframe tbody tr th {\n",
              "        vertical-align: top;\n",
              "    }\n",
              "\n",
              "    .dataframe thead th {\n",
              "        text-align: right;\n",
              "    }\n",
              "</style>\n",
              "<table border=\"1\" class=\"dataframe\">\n",
              "  <thead>\n",
              "    <tr style=\"text-align: right;\">\n",
              "      <th></th>\n",
              "      <th>STATION</th>\n",
              "      <th>DATE</th>\n",
              "      <th>PRCP</th>\n",
              "      <th>SNOW</th>\n",
              "      <th>SNWD</th>\n",
              "      <th>TMAX</th>\n",
              "      <th>TMIN</th>\n",
              "      <th>WDFG</th>\n",
              "      <th>WSFG</th>\n",
              "    </tr>\n",
              "  </thead>\n",
              "  <tbody>\n",
              "    <tr>\n",
              "      <th>16070</th>\n",
              "      <td>USW00023272</td>\n",
              "      <td>1965-01-01</td>\n",
              "      <td>0.0</td>\n",
              "      <td>0.0</td>\n",
              "      <td>0.0</td>\n",
              "      <td>89.0</td>\n",
              "      <td>44.0</td>\n",
              "      <td>NaN</td>\n",
              "      <td>84.0</td>\n",
              "    </tr>\n",
              "    <tr>\n",
              "      <th>16071</th>\n",
              "      <td>USW00023272</td>\n",
              "      <td>1965-01-02</td>\n",
              "      <td>206.0</td>\n",
              "      <td>0.0</td>\n",
              "      <td>0.0</td>\n",
              "      <td>106.0</td>\n",
              "      <td>67.0</td>\n",
              "      <td>NaN</td>\n",
              "      <td>0.0</td>\n",
              "    </tr>\n",
              "    <tr>\n",
              "      <th>16072</th>\n",
              "      <td>USW00023272</td>\n",
              "      <td>1965-01-03</td>\n",
              "      <td>203.0</td>\n",
              "      <td>0.0</td>\n",
              "      <td>0.0</td>\n",
              "      <td>122.0</td>\n",
              "      <td>100.0</td>\n",
              "      <td>NaN</td>\n",
              "      <td>28.0</td>\n",
              "    </tr>\n",
              "    <tr>\n",
              "      <th>16073</th>\n",
              "      <td>USW00023272</td>\n",
              "      <td>1965-01-04</td>\n",
              "      <td>157.0</td>\n",
              "      <td>0.0</td>\n",
              "      <td>0.0</td>\n",
              "      <td>139.0</td>\n",
              "      <td>100.0</td>\n",
              "      <td>NaN</td>\n",
              "      <td>13.0</td>\n",
              "    </tr>\n",
              "    <tr>\n",
              "      <th>16074</th>\n",
              "      <td>USW00023272</td>\n",
              "      <td>1965-01-05</td>\n",
              "      <td>97.0</td>\n",
              "      <td>0.0</td>\n",
              "      <td>0.0</td>\n",
              "      <td>150.0</td>\n",
              "      <td>122.0</td>\n",
              "      <td>NaN</td>\n",
              "      <td>1.0</td>\n",
              "    </tr>\n",
              "    <tr>\n",
              "      <th>...</th>\n",
              "      <td>...</td>\n",
              "      <td>...</td>\n",
              "      <td>...</td>\n",
              "      <td>...</td>\n",
              "      <td>...</td>\n",
              "      <td>...</td>\n",
              "      <td>...</td>\n",
              "      <td>...</td>\n",
              "      <td>...</td>\n",
              "    </tr>\n",
              "    <tr>\n",
              "      <th>19717</th>\n",
              "      <td>USW00023272</td>\n",
              "      <td>1974-12-27</td>\n",
              "      <td>183.0</td>\n",
              "      <td>NaN</td>\n",
              "      <td>NaN</td>\n",
              "      <td>122.0</td>\n",
              "      <td>83.0</td>\n",
              "      <td>NaN</td>\n",
              "      <td>0.0</td>\n",
              "    </tr>\n",
              "    <tr>\n",
              "      <th>19718</th>\n",
              "      <td>USW00023272</td>\n",
              "      <td>1974-12-28</td>\n",
              "      <td>0.0</td>\n",
              "      <td>NaN</td>\n",
              "      <td>NaN</td>\n",
              "      <td>111.0</td>\n",
              "      <td>61.0</td>\n",
              "      <td>NaN</td>\n",
              "      <td>42.0</td>\n",
              "    </tr>\n",
              "    <tr>\n",
              "      <th>19719</th>\n",
              "      <td>USW00023272</td>\n",
              "      <td>1974-12-29</td>\n",
              "      <td>0.0</td>\n",
              "      <td>NaN</td>\n",
              "      <td>NaN</td>\n",
              "      <td>139.0</td>\n",
              "      <td>78.0</td>\n",
              "      <td>NaN</td>\n",
              "      <td>92.0</td>\n",
              "    </tr>\n",
              "    <tr>\n",
              "      <th>19720</th>\n",
              "      <td>USW00023272</td>\n",
              "      <td>1974-12-30</td>\n",
              "      <td>0.0</td>\n",
              "      <td>NaN</td>\n",
              "      <td>NaN</td>\n",
              "      <td>122.0</td>\n",
              "      <td>61.0</td>\n",
              "      <td>NaN</td>\n",
              "      <td>50.0</td>\n",
              "    </tr>\n",
              "    <tr>\n",
              "      <th>19721</th>\n",
              "      <td>USW00023272</td>\n",
              "      <td>1974-12-31</td>\n",
              "      <td>0.0</td>\n",
              "      <td>NaN</td>\n",
              "      <td>NaN</td>\n",
              "      <td>139.0</td>\n",
              "      <td>83.0</td>\n",
              "      <td>NaN</td>\n",
              "      <td>100.0</td>\n",
              "    </tr>\n",
              "  </tbody>\n",
              "</table>\n",
              "<p>3650 rows × 9 columns</p>\n",
              "</div>\n",
              "      <button class=\"colab-df-convert\" onclick=\"convertToInteractive('df-e013f41d-2ad1-4625-81e0-7e63b12c0d07')\"\n",
              "              title=\"Convert this dataframe to an interactive table.\"\n",
              "              style=\"display:none;\">\n",
              "        \n",
              "  <svg xmlns=\"http://www.w3.org/2000/svg\" height=\"24px\"viewBox=\"0 0 24 24\"\n",
              "       width=\"24px\">\n",
              "    <path d=\"M0 0h24v24H0V0z\" fill=\"none\"/>\n",
              "    <path d=\"M18.56 5.44l.94 2.06.94-2.06 2.06-.94-2.06-.94-.94-2.06-.94 2.06-2.06.94zm-11 1L8.5 8.5l.94-2.06 2.06-.94-2.06-.94L8.5 2.5l-.94 2.06-2.06.94zm10 10l.94 2.06.94-2.06 2.06-.94-2.06-.94-.94-2.06-.94 2.06-2.06.94z\"/><path d=\"M17.41 7.96l-1.37-1.37c-.4-.4-.92-.59-1.43-.59-.52 0-1.04.2-1.43.59L10.3 9.45l-7.72 7.72c-.78.78-.78 2.05 0 2.83L4 21.41c.39.39.9.59 1.41.59.51 0 1.02-.2 1.41-.59l7.78-7.78 2.81-2.81c.8-.78.8-2.07 0-2.86zM5.41 20L4 18.59l7.72-7.72 1.47 1.35L5.41 20z\"/>\n",
              "  </svg>\n",
              "      </button>\n",
              "      \n",
              "  <style>\n",
              "    .colab-df-container {\n",
              "      display:flex;\n",
              "      flex-wrap:wrap;\n",
              "      gap: 12px;\n",
              "    }\n",
              "\n",
              "    .colab-df-convert {\n",
              "      background-color: #E8F0FE;\n",
              "      border: none;\n",
              "      border-radius: 50%;\n",
              "      cursor: pointer;\n",
              "      display: none;\n",
              "      fill: #1967D2;\n",
              "      height: 32px;\n",
              "      padding: 0 0 0 0;\n",
              "      width: 32px;\n",
              "    }\n",
              "\n",
              "    .colab-df-convert:hover {\n",
              "      background-color: #E2EBFA;\n",
              "      box-shadow: 0px 1px 2px rgba(60, 64, 67, 0.3), 0px 1px 3px 1px rgba(60, 64, 67, 0.15);\n",
              "      fill: #174EA6;\n",
              "    }\n",
              "\n",
              "    [theme=dark] .colab-df-convert {\n",
              "      background-color: #3B4455;\n",
              "      fill: #D2E3FC;\n",
              "    }\n",
              "\n",
              "    [theme=dark] .colab-df-convert:hover {\n",
              "      background-color: #434B5C;\n",
              "      box-shadow: 0px 1px 3px 1px rgba(0, 0, 0, 0.15);\n",
              "      filter: drop-shadow(0px 1px 2px rgba(0, 0, 0, 0.3));\n",
              "      fill: #FFFFFF;\n",
              "    }\n",
              "  </style>\n",
              "\n",
              "      <script>\n",
              "        const buttonEl =\n",
              "          document.querySelector('#df-e013f41d-2ad1-4625-81e0-7e63b12c0d07 button.colab-df-convert');\n",
              "        buttonEl.style.display =\n",
              "          google.colab.kernel.accessAllowed ? 'block' : 'none';\n",
              "\n",
              "        async function convertToInteractive(key) {\n",
              "          const element = document.querySelector('#df-e013f41d-2ad1-4625-81e0-7e63b12c0d07');\n",
              "          const dataTable =\n",
              "            await google.colab.kernel.invokeFunction('convertToInteractive',\n",
              "                                                     [key], {});\n",
              "          if (!dataTable) return;\n",
              "\n",
              "          const docLinkHtml = 'Like what you see? Visit the ' +\n",
              "            '<a target=\"_blank\" href=https://colab.research.google.com/notebooks/data_table.ipynb>data table notebook</a>'\n",
              "            + ' to learn more about interactive tables.';\n",
              "          element.innerHTML = '';\n",
              "          dataTable['output_type'] = 'display_data';\n",
              "          await google.colab.output.renderOutput(dataTable, element);\n",
              "          const docLink = document.createElement('div');\n",
              "          docLink.innerHTML = docLinkHtml;\n",
              "          element.appendChild(docLink);\n",
              "        }\n",
              "      </script>\n",
              "    </div>\n",
              "  </div>\n",
              "  "
            ]
          },
          "metadata": {},
          "execution_count": 11
        }
      ]
    },
    {
      "cell_type": "code",
      "source": [
        "df_wsfg = df_wsfg.drop(['STATION', 'SNOW', 'SNWD', 'WDFG'], axis=1)\n",
        "df_wsfg"
      ],
      "metadata": {
        "colab": {
          "base_uri": "https://localhost:8080/",
          "height": 424
        },
        "id": "wnsbyGKr82an",
        "outputId": "51b9973a-3474-445a-cd58-926eb802b8d9"
      },
      "execution_count": 12,
      "outputs": [
        {
          "output_type": "execute_result",
          "data": {
            "text/plain": [
              "             DATE   PRCP   TMAX   TMIN   WSFG\n",
              "16070  1965-01-01    0.0   89.0   44.0   84.0\n",
              "16071  1965-01-02  206.0  106.0   67.0    0.0\n",
              "16072  1965-01-03  203.0  122.0  100.0   28.0\n",
              "16073  1965-01-04  157.0  139.0  100.0   13.0\n",
              "16074  1965-01-05   97.0  150.0  122.0    1.0\n",
              "...           ...    ...    ...    ...    ...\n",
              "19717  1974-12-27  183.0  122.0   83.0    0.0\n",
              "19718  1974-12-28    0.0  111.0   61.0   42.0\n",
              "19719  1974-12-29    0.0  139.0   78.0   92.0\n",
              "19720  1974-12-30    0.0  122.0   61.0   50.0\n",
              "19721  1974-12-31    0.0  139.0   83.0  100.0\n",
              "\n",
              "[3650 rows x 5 columns]"
            ],
            "text/html": [
              "\n",
              "  <div id=\"df-cee247e3-50d0-4670-a2e5-e40a022d7366\">\n",
              "    <div class=\"colab-df-container\">\n",
              "      <div>\n",
              "<style scoped>\n",
              "    .dataframe tbody tr th:only-of-type {\n",
              "        vertical-align: middle;\n",
              "    }\n",
              "\n",
              "    .dataframe tbody tr th {\n",
              "        vertical-align: top;\n",
              "    }\n",
              "\n",
              "    .dataframe thead th {\n",
              "        text-align: right;\n",
              "    }\n",
              "</style>\n",
              "<table border=\"1\" class=\"dataframe\">\n",
              "  <thead>\n",
              "    <tr style=\"text-align: right;\">\n",
              "      <th></th>\n",
              "      <th>DATE</th>\n",
              "      <th>PRCP</th>\n",
              "      <th>TMAX</th>\n",
              "      <th>TMIN</th>\n",
              "      <th>WSFG</th>\n",
              "    </tr>\n",
              "  </thead>\n",
              "  <tbody>\n",
              "    <tr>\n",
              "      <th>16070</th>\n",
              "      <td>1965-01-01</td>\n",
              "      <td>0.0</td>\n",
              "      <td>89.0</td>\n",
              "      <td>44.0</td>\n",
              "      <td>84.0</td>\n",
              "    </tr>\n",
              "    <tr>\n",
              "      <th>16071</th>\n",
              "      <td>1965-01-02</td>\n",
              "      <td>206.0</td>\n",
              "      <td>106.0</td>\n",
              "      <td>67.0</td>\n",
              "      <td>0.0</td>\n",
              "    </tr>\n",
              "    <tr>\n",
              "      <th>16072</th>\n",
              "      <td>1965-01-03</td>\n",
              "      <td>203.0</td>\n",
              "      <td>122.0</td>\n",
              "      <td>100.0</td>\n",
              "      <td>28.0</td>\n",
              "    </tr>\n",
              "    <tr>\n",
              "      <th>16073</th>\n",
              "      <td>1965-01-04</td>\n",
              "      <td>157.0</td>\n",
              "      <td>139.0</td>\n",
              "      <td>100.0</td>\n",
              "      <td>13.0</td>\n",
              "    </tr>\n",
              "    <tr>\n",
              "      <th>16074</th>\n",
              "      <td>1965-01-05</td>\n",
              "      <td>97.0</td>\n",
              "      <td>150.0</td>\n",
              "      <td>122.0</td>\n",
              "      <td>1.0</td>\n",
              "    </tr>\n",
              "    <tr>\n",
              "      <th>...</th>\n",
              "      <td>...</td>\n",
              "      <td>...</td>\n",
              "      <td>...</td>\n",
              "      <td>...</td>\n",
              "      <td>...</td>\n",
              "    </tr>\n",
              "    <tr>\n",
              "      <th>19717</th>\n",
              "      <td>1974-12-27</td>\n",
              "      <td>183.0</td>\n",
              "      <td>122.0</td>\n",
              "      <td>83.0</td>\n",
              "      <td>0.0</td>\n",
              "    </tr>\n",
              "    <tr>\n",
              "      <th>19718</th>\n",
              "      <td>1974-12-28</td>\n",
              "      <td>0.0</td>\n",
              "      <td>111.0</td>\n",
              "      <td>61.0</td>\n",
              "      <td>42.0</td>\n",
              "    </tr>\n",
              "    <tr>\n",
              "      <th>19719</th>\n",
              "      <td>1974-12-29</td>\n",
              "      <td>0.0</td>\n",
              "      <td>139.0</td>\n",
              "      <td>78.0</td>\n",
              "      <td>92.0</td>\n",
              "    </tr>\n",
              "    <tr>\n",
              "      <th>19720</th>\n",
              "      <td>1974-12-30</td>\n",
              "      <td>0.0</td>\n",
              "      <td>122.0</td>\n",
              "      <td>61.0</td>\n",
              "      <td>50.0</td>\n",
              "    </tr>\n",
              "    <tr>\n",
              "      <th>19721</th>\n",
              "      <td>1974-12-31</td>\n",
              "      <td>0.0</td>\n",
              "      <td>139.0</td>\n",
              "      <td>83.0</td>\n",
              "      <td>100.0</td>\n",
              "    </tr>\n",
              "  </tbody>\n",
              "</table>\n",
              "<p>3650 rows × 5 columns</p>\n",
              "</div>\n",
              "      <button class=\"colab-df-convert\" onclick=\"convertToInteractive('df-cee247e3-50d0-4670-a2e5-e40a022d7366')\"\n",
              "              title=\"Convert this dataframe to an interactive table.\"\n",
              "              style=\"display:none;\">\n",
              "        \n",
              "  <svg xmlns=\"http://www.w3.org/2000/svg\" height=\"24px\"viewBox=\"0 0 24 24\"\n",
              "       width=\"24px\">\n",
              "    <path d=\"M0 0h24v24H0V0z\" fill=\"none\"/>\n",
              "    <path d=\"M18.56 5.44l.94 2.06.94-2.06 2.06-.94-2.06-.94-.94-2.06-.94 2.06-2.06.94zm-11 1L8.5 8.5l.94-2.06 2.06-.94-2.06-.94L8.5 2.5l-.94 2.06-2.06.94zm10 10l.94 2.06.94-2.06 2.06-.94-2.06-.94-.94-2.06-.94 2.06-2.06.94z\"/><path d=\"M17.41 7.96l-1.37-1.37c-.4-.4-.92-.59-1.43-.59-.52 0-1.04.2-1.43.59L10.3 9.45l-7.72 7.72c-.78.78-.78 2.05 0 2.83L4 21.41c.39.39.9.59 1.41.59.51 0 1.02-.2 1.41-.59l7.78-7.78 2.81-2.81c.8-.78.8-2.07 0-2.86zM5.41 20L4 18.59l7.72-7.72 1.47 1.35L5.41 20z\"/>\n",
              "  </svg>\n",
              "      </button>\n",
              "      \n",
              "  <style>\n",
              "    .colab-df-container {\n",
              "      display:flex;\n",
              "      flex-wrap:wrap;\n",
              "      gap: 12px;\n",
              "    }\n",
              "\n",
              "    .colab-df-convert {\n",
              "      background-color: #E8F0FE;\n",
              "      border: none;\n",
              "      border-radius: 50%;\n",
              "      cursor: pointer;\n",
              "      display: none;\n",
              "      fill: #1967D2;\n",
              "      height: 32px;\n",
              "      padding: 0 0 0 0;\n",
              "      width: 32px;\n",
              "    }\n",
              "\n",
              "    .colab-df-convert:hover {\n",
              "      background-color: #E2EBFA;\n",
              "      box-shadow: 0px 1px 2px rgba(60, 64, 67, 0.3), 0px 1px 3px 1px rgba(60, 64, 67, 0.15);\n",
              "      fill: #174EA6;\n",
              "    }\n",
              "\n",
              "    [theme=dark] .colab-df-convert {\n",
              "      background-color: #3B4455;\n",
              "      fill: #D2E3FC;\n",
              "    }\n",
              "\n",
              "    [theme=dark] .colab-df-convert:hover {\n",
              "      background-color: #434B5C;\n",
              "      box-shadow: 0px 1px 3px 1px rgba(0, 0, 0, 0.15);\n",
              "      filter: drop-shadow(0px 1px 2px rgba(0, 0, 0, 0.3));\n",
              "      fill: #FFFFFF;\n",
              "    }\n",
              "  </style>\n",
              "\n",
              "      <script>\n",
              "        const buttonEl =\n",
              "          document.querySelector('#df-cee247e3-50d0-4670-a2e5-e40a022d7366 button.colab-df-convert');\n",
              "        buttonEl.style.display =\n",
              "          google.colab.kernel.accessAllowed ? 'block' : 'none';\n",
              "\n",
              "        async function convertToInteractive(key) {\n",
              "          const element = document.querySelector('#df-cee247e3-50d0-4670-a2e5-e40a022d7366');\n",
              "          const dataTable =\n",
              "            await google.colab.kernel.invokeFunction('convertToInteractive',\n",
              "                                                     [key], {});\n",
              "          if (!dataTable) return;\n",
              "\n",
              "          const docLinkHtml = 'Like what you see? Visit the ' +\n",
              "            '<a target=\"_blank\" href=https://colab.research.google.com/notebooks/data_table.ipynb>data table notebook</a>'\n",
              "            + ' to learn more about interactive tables.';\n",
              "          element.innerHTML = '';\n",
              "          dataTable['output_type'] = 'display_data';\n",
              "          await google.colab.output.renderOutput(dataTable, element);\n",
              "          const docLink = document.createElement('div');\n",
              "          docLink.innerHTML = docLinkHtml;\n",
              "          element.appendChild(docLink);\n",
              "        }\n",
              "      </script>\n",
              "    </div>\n",
              "  </div>\n",
              "  "
            ]
          },
          "metadata": {},
          "execution_count": 12
        }
      ]
    },
    {
      "cell_type": "code",
      "source": [
        "ws_dates = df_wsfg.pop(\"DATE\")"
      ],
      "metadata": {
        "id": "sxP9XXmt9JKo"
      },
      "execution_count": 13,
      "outputs": []
    },
    {
      "cell_type": "code",
      "source": [
        "ws_doy = pd.to_datetime(ws_dates).dt.dayofyear"
      ],
      "metadata": {
        "id": "VUSSAfw39PnN"
      },
      "execution_count": 14,
      "outputs": []
    },
    {
      "cell_type": "code",
      "source": [
        "df_wsfg[\"DOY_SIN\"] = np.sin(ws_doy * (2 * np.pi / 365.2425))\n",
        "df_wsfg[\"DOY_COS\"] = np.cos(ws_doy * (2 * np.pi / 365.2425))\n",
        "df_wsfg = df_wsfg[['DOY_SIN', 'DOY_COS', 'PRCP', 'WSFG', 'TMIN', 'TMAX']]\n",
        "df_wsfg.head()"
      ],
      "metadata": {
        "colab": {
          "base_uri": "https://localhost:8080/",
          "height": 206
        },
        "id": "LC9cvNCK9XzF",
        "outputId": "91f8d8e4-e404-44dd-966f-f1faaee39884"
      },
      "execution_count": 15,
      "outputs": [
        {
          "output_type": "execute_result",
          "data": {
            "text/plain": [
              "        DOY_SIN   DOY_COS   PRCP  WSFG   TMIN   TMAX\n",
              "16070  0.017202  0.999852    0.0  84.0   44.0   89.0\n",
              "16071  0.034399  0.999408  206.0   0.0   67.0  106.0\n",
              "16072  0.051585  0.998669  203.0  28.0  100.0  122.0\n",
              "16073  0.068757  0.997633  157.0  13.0  100.0  139.0\n",
              "16074  0.085908  0.996303   97.0   1.0  122.0  150.0"
            ],
            "text/html": [
              "\n",
              "  <div id=\"df-99e1f56b-6dd8-4426-b3cc-07483cdb254d\">\n",
              "    <div class=\"colab-df-container\">\n",
              "      <div>\n",
              "<style scoped>\n",
              "    .dataframe tbody tr th:only-of-type {\n",
              "        vertical-align: middle;\n",
              "    }\n",
              "\n",
              "    .dataframe tbody tr th {\n",
              "        vertical-align: top;\n",
              "    }\n",
              "\n",
              "    .dataframe thead th {\n",
              "        text-align: right;\n",
              "    }\n",
              "</style>\n",
              "<table border=\"1\" class=\"dataframe\">\n",
              "  <thead>\n",
              "    <tr style=\"text-align: right;\">\n",
              "      <th></th>\n",
              "      <th>DOY_SIN</th>\n",
              "      <th>DOY_COS</th>\n",
              "      <th>PRCP</th>\n",
              "      <th>WSFG</th>\n",
              "      <th>TMIN</th>\n",
              "      <th>TMAX</th>\n",
              "    </tr>\n",
              "  </thead>\n",
              "  <tbody>\n",
              "    <tr>\n",
              "      <th>16070</th>\n",
              "      <td>0.017202</td>\n",
              "      <td>0.999852</td>\n",
              "      <td>0.0</td>\n",
              "      <td>84.0</td>\n",
              "      <td>44.0</td>\n",
              "      <td>89.0</td>\n",
              "    </tr>\n",
              "    <tr>\n",
              "      <th>16071</th>\n",
              "      <td>0.034399</td>\n",
              "      <td>0.999408</td>\n",
              "      <td>206.0</td>\n",
              "      <td>0.0</td>\n",
              "      <td>67.0</td>\n",
              "      <td>106.0</td>\n",
              "    </tr>\n",
              "    <tr>\n",
              "      <th>16072</th>\n",
              "      <td>0.051585</td>\n",
              "      <td>0.998669</td>\n",
              "      <td>203.0</td>\n",
              "      <td>28.0</td>\n",
              "      <td>100.0</td>\n",
              "      <td>122.0</td>\n",
              "    </tr>\n",
              "    <tr>\n",
              "      <th>16073</th>\n",
              "      <td>0.068757</td>\n",
              "      <td>0.997633</td>\n",
              "      <td>157.0</td>\n",
              "      <td>13.0</td>\n",
              "      <td>100.0</td>\n",
              "      <td>139.0</td>\n",
              "    </tr>\n",
              "    <tr>\n",
              "      <th>16074</th>\n",
              "      <td>0.085908</td>\n",
              "      <td>0.996303</td>\n",
              "      <td>97.0</td>\n",
              "      <td>1.0</td>\n",
              "      <td>122.0</td>\n",
              "      <td>150.0</td>\n",
              "    </tr>\n",
              "  </tbody>\n",
              "</table>\n",
              "</div>\n",
              "      <button class=\"colab-df-convert\" onclick=\"convertToInteractive('df-99e1f56b-6dd8-4426-b3cc-07483cdb254d')\"\n",
              "              title=\"Convert this dataframe to an interactive table.\"\n",
              "              style=\"display:none;\">\n",
              "        \n",
              "  <svg xmlns=\"http://www.w3.org/2000/svg\" height=\"24px\"viewBox=\"0 0 24 24\"\n",
              "       width=\"24px\">\n",
              "    <path d=\"M0 0h24v24H0V0z\" fill=\"none\"/>\n",
              "    <path d=\"M18.56 5.44l.94 2.06.94-2.06 2.06-.94-2.06-.94-.94-2.06-.94 2.06-2.06.94zm-11 1L8.5 8.5l.94-2.06 2.06-.94-2.06-.94L8.5 2.5l-.94 2.06-2.06.94zm10 10l.94 2.06.94-2.06 2.06-.94-2.06-.94-.94-2.06-.94 2.06-2.06.94z\"/><path d=\"M17.41 7.96l-1.37-1.37c-.4-.4-.92-.59-1.43-.59-.52 0-1.04.2-1.43.59L10.3 9.45l-7.72 7.72c-.78.78-.78 2.05 0 2.83L4 21.41c.39.39.9.59 1.41.59.51 0 1.02-.2 1.41-.59l7.78-7.78 2.81-2.81c.8-.78.8-2.07 0-2.86zM5.41 20L4 18.59l7.72-7.72 1.47 1.35L5.41 20z\"/>\n",
              "  </svg>\n",
              "      </button>\n",
              "      \n",
              "  <style>\n",
              "    .colab-df-container {\n",
              "      display:flex;\n",
              "      flex-wrap:wrap;\n",
              "      gap: 12px;\n",
              "    }\n",
              "\n",
              "    .colab-df-convert {\n",
              "      background-color: #E8F0FE;\n",
              "      border: none;\n",
              "      border-radius: 50%;\n",
              "      cursor: pointer;\n",
              "      display: none;\n",
              "      fill: #1967D2;\n",
              "      height: 32px;\n",
              "      padding: 0 0 0 0;\n",
              "      width: 32px;\n",
              "    }\n",
              "\n",
              "    .colab-df-convert:hover {\n",
              "      background-color: #E2EBFA;\n",
              "      box-shadow: 0px 1px 2px rgba(60, 64, 67, 0.3), 0px 1px 3px 1px rgba(60, 64, 67, 0.15);\n",
              "      fill: #174EA6;\n",
              "    }\n",
              "\n",
              "    [theme=dark] .colab-df-convert {\n",
              "      background-color: #3B4455;\n",
              "      fill: #D2E3FC;\n",
              "    }\n",
              "\n",
              "    [theme=dark] .colab-df-convert:hover {\n",
              "      background-color: #434B5C;\n",
              "      box-shadow: 0px 1px 3px 1px rgba(0, 0, 0, 0.15);\n",
              "      filter: drop-shadow(0px 1px 2px rgba(0, 0, 0, 0.3));\n",
              "      fill: #FFFFFF;\n",
              "    }\n",
              "  </style>\n",
              "\n",
              "      <script>\n",
              "        const buttonEl =\n",
              "          document.querySelector('#df-99e1f56b-6dd8-4426-b3cc-07483cdb254d button.colab-df-convert');\n",
              "        buttonEl.style.display =\n",
              "          google.colab.kernel.accessAllowed ? 'block' : 'none';\n",
              "\n",
              "        async function convertToInteractive(key) {\n",
              "          const element = document.querySelector('#df-99e1f56b-6dd8-4426-b3cc-07483cdb254d');\n",
              "          const dataTable =\n",
              "            await google.colab.kernel.invokeFunction('convertToInteractive',\n",
              "                                                     [key], {});\n",
              "          if (!dataTable) return;\n",
              "\n",
              "          const docLinkHtml = 'Like what you see? Visit the ' +\n",
              "            '<a target=\"_blank\" href=https://colab.research.google.com/notebooks/data_table.ipynb>data table notebook</a>'\n",
              "            + ' to learn more about interactive tables.';\n",
              "          element.innerHTML = '';\n",
              "          dataTable['output_type'] = 'display_data';\n",
              "          await google.colab.output.renderOutput(dataTable, element);\n",
              "          const docLink = document.createElement('div');\n",
              "          docLink.innerHTML = docLinkHtml;\n",
              "          element.appendChild(docLink);\n",
              "        }\n",
              "      </script>\n",
              "    </div>\n",
              "  </div>\n",
              "  "
            ]
          },
          "metadata": {},
          "execution_count": 15
        }
      ]
    },
    {
      "cell_type": "code",
      "source": [
        "df_wsfg.hist(bins=100, figsize=(15,10))"
      ],
      "metadata": {
        "colab": {
          "base_uri": "https://localhost:8080/",
          "height": 956
        },
        "id": "ovJUy92k9m9l",
        "outputId": "ec84cf6e-7538-4c5e-91ea-ea77232e86e7"
      },
      "execution_count": 16,
      "outputs": [
        {
          "output_type": "execute_result",
          "data": {
            "text/plain": [
              "array([[<Axes: title={'center': 'DOY_SIN'}>,\n",
              "        <Axes: title={'center': 'DOY_COS'}>],\n",
              "       [<Axes: title={'center': 'PRCP'}>,\n",
              "        <Axes: title={'center': 'WSFG'}>],\n",
              "       [<Axes: title={'center': 'TMIN'}>,\n",
              "        <Axes: title={'center': 'TMAX'}>]], dtype=object)"
            ]
          },
          "metadata": {},
          "execution_count": 16
        },
        {
          "output_type": "display_data",
          "data": {
            "text/plain": [
              "<Figure size 1500x1000 with 6 Axes>"
            ],
            "image/png": "[encoded data removed]"
          },
          "metadata": {}
        }
      ]
    },
    {
      "cell_type": "markdown",
      "source": [
        "Wind speed is at least not heavily skewed."
      ],
      "metadata": {
        "id": "S0R6bFAu7DEj"
      }
    },
    {
      "cell_type": "markdown",
      "source": [
        "Now to transform the dataset to a timeseries data set for LSTM. I will include normalization and splitting process. I keep transformation information so I can convert the results back to original units which in this case will be TMIN (minimum temperature) and TMAX (maximum termpature). "
      ],
      "metadata": {
        "id": "j-D4DTZFO5Jp"
      }
    },
    {
      "cell_type": "code",
      "execution_count": 23,
      "metadata": {
        "id": "AvdAIOADAMPK"
      },
      "outputs": [],
      "source": [
        "def print_dataset(ds):\n",
        "    for inputs, targets in ds:\n",
        "        print(\"---Batch---\")\n",
        "        print(\"Feature:\", inputs.numpy())\n",
        "        print(\"Label:\", targets.numpy())\n",
        "        print(\"\")"
      ]
    },
    {
      "cell_type": "code",
      "execution_count": 24,
      "metadata": {
        "id": "dnZlg6tGS_yK"
      },
      "outputs": [],
      "source": [
        "class WindowData():\n",
        "  def __init__(self, data, train_size, valid_size, test_size):\n",
        "    self.data = data\n",
        "    self.train_size = train_size\n",
        "    self.valid_size = valid_size\n",
        "    self.test_size = test_size\n",
        "    self.train = None\n",
        "    self.valid = None\n",
        "    self.test = None\n",
        "    self.tr_mean = None\n",
        "    self.tr_sd = None\n",
        "    self.baseline = None\n",
        "  \n",
        "  def data_split(self):\n",
        "    n = len(self.data)\n",
        "    train_ind = int(n*self.train_size)\n",
        "    valid_ind = int(n*(self.train_size + self.valid_size))\n",
        "    self.train = self.data[:train_ind]\n",
        "    self.valid = self.data[train_ind:valid_ind]\n",
        "    self.test = self.data[valid_ind:]\n",
        "    self.baseline = self.data[valid_ind-1:-1]\n",
        "\n",
        "  def normalize(self, fill=True):\n",
        "    self.tr_mean = self.train.mean()\n",
        "    self.tr_sd = self.train.std()\n",
        "    self.train = (self.train - self.tr_mean)/self.tr_sd\n",
        "    self.valid = (self.valid - self.tr_mean)/self.tr_sd\n",
        "    self.test = (self.test - self.tr_mean)/self.tr_sd\n",
        "    if fill:\n",
        "      self.train = self.train.fillna(0)\n",
        "      self.valid = self.valid.fillna(0)\n",
        "      self.test = self.test.fillna(0)\n",
        "  \n",
        "  def ts_convert(self, features, label_slice, input_length, output_length, batch_size):\n",
        "    def convert_helper(x):\n",
        "      return x[:, :input_length, :], x[:, input_length:, label_slice]\n",
        "    return tf.keras.preprocessing.timeseries_dataset_from_array(features, None, input_length + output_length, batch_size=batch_size).map(convert_helper)\n",
        "  \n",
        "  def ts_convert_all(self, label_slice, input_len, output_len, batch_size):\n",
        "    self.ts_train = self.ts_convert(self.train, label_slice, input_len, output_len, batch_size)\n",
        "    self.ts_valid = self.ts_convert(self.valid, label_slice, input_len, output_len, batch_size)\n",
        "    self.ts_test = self.ts_convert(self.test, label_slice, input_len, output_len, batch_size)"
      ]
    },
    {
      "cell_type": "code",
      "execution_count": 57,
      "metadata": {
        "id": "6hoDS593FIrg"
      },
      "outputs": [],
      "source": [
        "windows = WindowData(df_prcp_tmp, 0.7, 0.2, 0.1)"
      ]
    },
    {
      "cell_type": "code",
      "execution_count": 58,
      "metadata": {
        "id": "BdiBdHWJFqTE"
      },
      "outputs": [],
      "source": [
        "windows.data_split()"
      ]
    },
    {
      "cell_type": "code",
      "execution_count": 59,
      "metadata": {
        "id": "FrqBJKlnGZuq"
      },
      "outputs": [],
      "source": [
        "windows.normalize()"
      ]
    },
    {
      "cell_type": "code",
      "execution_count": 60,
      "metadata": {
        "id": "FZzyHBzfGe8h"
      },
      "outputs": [],
      "source": [
        "windows.ts_convert_all(slice(3, None, None), 6, 1, 1)"
      ]
    },
    {
      "cell_type": "code",
      "source": [
        "ws_windows = WindowData(df_wsfg, 0.7, 0.2, 0.1)"
      ],
      "metadata": {
        "id": "moZAI_fH-bGZ"
      },
      "execution_count": 25,
      "outputs": []
    },
    {
      "cell_type": "code",
      "source": [
        "ws_windows.data_split()"
      ],
      "metadata": {
        "id": "RBw4G9qg-r-K"
      },
      "execution_count": 26,
      "outputs": []
    },
    {
      "cell_type": "code",
      "source": [
        "ws_windows.normalize()"
      ],
      "metadata": {
        "id": "2ZvxiIA7-8c2"
      },
      "execution_count": 27,
      "outputs": []
    },
    {
      "cell_type": "code",
      "source": [
        "ws_windows.ts_convert_all(slice(4, None, None), 6, 1, 1)"
      ],
      "metadata": {
        "id": "0KSRC9s__A3i"
      },
      "execution_count": 28,
      "outputs": []
    },
    {
      "cell_type": "markdown",
      "source": [
        "#Modeling"
      ],
      "metadata": {
        "id": "6s9dMbdf-4_m"
      }
    },
    {
      "cell_type": "markdown",
      "source": [
        "Here I'll try different LSTM models in TensorFlow Keras. Final layer is Dense 2 to predict TMIN and TMAX. Adam seems to be a good optimizer in most cases. I use mean squared error (MSE) for loss and mean absolute error (MAE) for model comparison. MAE is easier to interpret as it will be in the original units and it won't magnify the effects of large errors."
      ],
      "metadata": {
        "id": "fuMRDam795Ak"
      }
    },
    {
      "cell_type": "markdown",
      "source": [
        "##Non-windspeed Models"
      ],
      "metadata": {
        "id": "uAJWsM7L-vVE"
      }
    },
    {
      "cell_type": "code",
      "execution_count": 55,
      "metadata": {
        "id": "O0H-zOmoJMH4"
      },
      "outputs": [],
      "source": [
        "model = tf.keras.Sequential([\n",
        "    layers.LSTM(32, return_sequences=False),\n",
        "    layers.Dense(2)\n",
        "])\n"
      ]
    },
    {
      "cell_type": "code",
      "execution_count": 56,
      "metadata": {
        "id": "vE0X7P9H3m1z"
      },
      "outputs": [],
      "source": [
        "model.compile(loss=\"mse\",\n",
        "              optimizer=tf.keras.optimizers.Adam(),\n",
        "              metrics=[\"mae\"])"
      ]
    },
    {
      "cell_type": "code",
      "execution_count": 31,
      "metadata": {
        "id": "bn88s5zWwCBj"
      },
      "outputs": [],
      "source": [
        "early_stopping = tf.keras.callbacks.EarlyStopping(monitor='val_loss',\n",
        "                                                    patience=2,\n",
        "                                                    mode='min')"
      ]
    },
    {
      "cell_type": "code",
      "execution_count": 58,
      "metadata": {
        "colab": {
          "base_uri": "https://localhost:8080/"
        },
        "id": "p5ombzUWlOzx",
        "outputId": "15066bc3-0b0c-4d3f-d565-0c0e95511f3e"
      },
      "outputs": [
        {
          "output_type": "stream",
          "name": "stdout",
          "text": [
            "Epoch 1/20\n",
            "26142/26142 [==============================] - 152s 6ms/step - loss: 0.3209 - mae: 0.4186 - val_loss: 0.3783 - val_mae: 0.4686\n",
            "Epoch 2/20\n",
            "26142/26142 [==============================] - 148s 6ms/step - loss: 0.3044 - mae: 0.4077 - val_loss: 0.3698 - val_mae: 0.4610\n",
            "Epoch 3/20\n",
            "26142/26142 [==============================] - 142s 5ms/step - loss: 0.3013 - mae: 0.4053 - val_loss: 0.3664 - val_mae: 0.4583\n",
            "Epoch 4/20\n",
            "26142/26142 [==============================] - 137s 5ms/step - loss: 0.2994 - mae: 0.4038 - val_loss: 0.3634 - val_mae: 0.4555\n",
            "Epoch 5/20\n",
            "26142/26142 [==============================] - 138s 5ms/step - loss: 0.2979 - mae: 0.4028 - val_loss: 0.3615 - val_mae: 0.4534\n",
            "Epoch 6/20\n",
            "26142/26142 [==============================] - 134s 5ms/step - loss: 0.2967 - mae: 0.4019 - val_loss: 0.3603 - val_mae: 0.4517\n",
            "Epoch 7/20\n",
            "26142/26142 [==============================] - 133s 5ms/step - loss: 0.2955 - mae: 0.4011 - val_loss: 0.3595 - val_mae: 0.4505\n",
            "Epoch 8/20\n",
            "26142/26142 [==============================] - 137s 5ms/step - loss: 0.2942 - mae: 0.4004 - val_loss: 0.3593 - val_mae: 0.4501\n",
            "Epoch 9/20\n",
            "26142/26142 [==============================] - 136s 5ms/step - loss: 0.2930 - mae: 0.3997 - val_loss: 0.3596 - val_mae: 0.4503\n",
            "Epoch 10/20\n",
            "26142/26142 [==============================] - 138s 5ms/step - loss: 0.2916 - mae: 0.3990 - val_loss: 0.3602 - val_mae: 0.4508\n"
          ]
        }
      ],
      "source": [
        "history = model.fit(windows.ts_train, \n",
        "                    epochs=20,\n",
        "                    validation_data=windows.ts_valid,\n",
        "                    callbacks=[early_stopping])"
      ]
    },
    {
      "cell_type": "code",
      "execution_count": 29,
      "metadata": {
        "id": "Ii0qb7ae2wic"
      },
      "outputs": [],
      "source": [
        "def metrics_plot(history):\n",
        "    xs = np.arange(1, len(history['loss'])+1)\n",
        "    plt.figure(figsize=[16,4])\n",
        "    \n",
        "    plt.subplot(1,3,1)\n",
        "    plt.plot(xs, history['loss'], label='Training')\n",
        "    plt.plot(xs, history['val_loss'], label='Validation')\n",
        "    plt.xlabel('Epoch') \n",
        "    plt.ylabel('Loss') \n",
        "    plt.title('Loss')\n",
        "    plt.legend()\n",
        "    \n",
        "    plt.subplot(1,3,2)\n",
        "    plt.plot(xs, history['mae'], label='Training')\n",
        "    plt.plot(xs, history['val_mae'], label='Validation')\n",
        "    plt.xlabel('Epoch') \n",
        "    plt.ylabel('MAE')\n",
        "    plt.title('MAE')\n",
        "    plt.legend()\n",
        "    plt.tight_layout()\n",
        "    \n",
        "    plt.show()"
      ]
    },
    {
      "cell_type": "code",
      "execution_count": 59,
      "metadata": {
        "colab": {
          "base_uri": "https://localhost:8080/",
          "height": 407
        },
        "id": "etF-B5Ug5SOJ",
        "outputId": "c87ba27c-2e97-444a-8cec-0ea6f5a99f0c"
      },
      "outputs": [
        {
          "output_type": "display_data",
          "data": {
            "text/plain": [
              "<Figure size 1600x400 with 2 Axes>"
            ],
            "image/png": "[encoded data removed]"
          },
          "metadata": {}
        }
      ],
      "source": [
        "metrics_plot(history.history)"
      ]
    },
    {
      "cell_type": "code",
      "execution_count": 60,
      "metadata": {
        "colab": {
          "base_uri": "https://localhost:8080/"
        },
        "id": "CuajoTNz61Vg",
        "outputId": "ec30edd5-7c7e-46cb-df70-890c172dd255"
      },
      "outputs": [
        {
          "output_type": "stream",
          "name": "stdout",
          "text": [
            "3730/3730 [==============================] - 11s 3ms/step - loss: 0.3157 - mae: 0.4248\n"
          ]
        },
        {
          "output_type": "execute_result",
          "data": {
            "text/plain": [
              "[0.3157173693180084, 0.42476120591163635]"
            ]
          },
          "metadata": {},
          "execution_count": 60
        }
      ],
      "source": [
        "model.evaluate(windows.ts_test)"
      ]
    },
    {
      "cell_type": "code",
      "execution_count": 61,
      "metadata": {
        "id": "l9rZiBAN5HnC"
      },
      "outputs": [],
      "source": [
        "model2 = tf.keras.Sequential([\n",
        "    layers.LSTM(32, return_sequences=False),\n",
        "    layers.Dense(2)\n",
        "])\n",
        "model2.compile(loss=\"mse\",\n",
        "              optimizer=tf.keras.optimizers.Adam(learning_rate=0.01),\n",
        "              metrics=[\"mae\"])\n"
      ]
    },
    {
      "cell_type": "code",
      "execution_count": 62,
      "metadata": {
        "colab": {
          "base_uri": "https://localhost:8080/"
        },
        "id": "rSSrkcdV5SUG",
        "outputId": "16eee62e-c6c0-447c-cf07-b444213a2d84"
      },
      "outputs": [
        {
          "output_type": "stream",
          "name": "stdout",
          "text": [
            "Epoch 1/20\n",
            "26142/26142 [==============================] - 139s 5ms/step - loss: 0.3376 - mae: 0.4309 - val_loss: 0.4283 - val_mae: 0.5132\n",
            "Epoch 2/20\n",
            "26142/26142 [==============================] - 139s 5ms/step - loss: 0.3244 - mae: 0.4221 - val_loss: 0.4147 - val_mae: 0.4989\n",
            "Epoch 3/20\n",
            "26142/26142 [==============================] - 135s 5ms/step - loss: 0.3236 - mae: 0.4214 - val_loss: 0.4223 - val_mae: 0.5076\n",
            "Epoch 4/20\n",
            "26142/26142 [==============================] - 136s 5ms/step - loss: 0.3227 - mae: 0.4203 - val_loss: 0.4159 - val_mae: 0.5000\n"
          ]
        }
      ],
      "source": [
        "history2 = model2.fit(windows.ts_train, \n",
        "                      epochs=20,\n",
        "                      validation_data=windows.ts_valid,\n",
        "                      callbacks=[early_stopping])"
      ]
    },
    {
      "cell_type": "code",
      "execution_count": 63,
      "metadata": {
        "colab": {
          "base_uri": "https://localhost:8080/",
          "height": 407
        },
        "id": "JaE_o4jv58im",
        "outputId": "9142c5dc-af70-451f-ee90-26cc6b4105de"
      },
      "outputs": [
        {
          "output_type": "display_data",
          "data": {
            "text/plain": [
              "<Figure size 1600x400 with 2 Axes>"
            ],
            "image/png": "[encoded data removed]"
          },
          "metadata": {}
        }
      ],
      "source": [
        "metrics_plot(history2.history)"
      ]
    },
    {
      "cell_type": "code",
      "execution_count": 64,
      "metadata": {
        "colab": {
          "base_uri": "https://localhost:8080/"
        },
        "id": "sVA61QGO5-Cp",
        "outputId": "5139b0b2-5667-4608-ed6f-c4f9b05966ae"
      },
      "outputs": [
        {
          "output_type": "stream",
          "name": "stdout",
          "text": [
            "3730/3730 [==============================] - 11s 3ms/step - loss: 0.3570 - mae: 0.4640\n"
          ]
        },
        {
          "output_type": "execute_result",
          "data": {
            "text/plain": [
              "[0.3570423424243927, 0.46404457092285156]"
            ]
          },
          "metadata": {},
          "execution_count": 64
        }
      ],
      "source": [
        "model2.evaluate(windows.ts_test)"
      ]
    },
    {
      "cell_type": "code",
      "execution_count": 56,
      "metadata": {
        "id": "vS4muAES5o-f"
      },
      "outputs": [],
      "source": [
        "model3 = tf.keras.Sequential([\n",
        "    layers.LSTM(16, return_sequences=False),\n",
        "    layers.Dense(2)\n",
        "])\n",
        "model3.compile(loss=\"mse\",\n",
        "              optimizer=tf.keras.optimizers.Adam(),\n",
        "              metrics=[\"mae\"])"
      ]
    },
    {
      "cell_type": "code",
      "execution_count": 66,
      "metadata": {
        "colab": {
          "base_uri": "https://localhost:8080/"
        },
        "id": "hEGqLo5C50tQ",
        "outputId": "99b1e3ca-790d-44d9-cfc5-2e6e07d3239f"
      },
      "outputs": [
        {
          "output_type": "stream",
          "name": "stdout",
          "text": [
            "Epoch 1/20\n",
            "26142/26142 [==============================] - 142s 5ms/step - loss: 0.3270 - mae: 0.4227 - val_loss: 0.3732 - val_mae: 0.4652\n",
            "Epoch 2/20\n",
            "26142/26142 [==============================] - 138s 5ms/step - loss: 0.3036 - mae: 0.4071 - val_loss: 0.3708 - val_mae: 0.4628\n",
            "Epoch 3/20\n",
            "26142/26142 [==============================] - 138s 5ms/step - loss: 0.3011 - mae: 0.4052 - val_loss: 0.3674 - val_mae: 0.4595\n",
            "Epoch 4/20\n",
            "26142/26142 [==============================] - 136s 5ms/step - loss: 0.2994 - mae: 0.4040 - val_loss: 0.3646 - val_mae: 0.4569\n",
            "Epoch 5/20\n",
            "26142/26142 [==============================] - 138s 5ms/step - loss: 0.2982 - mae: 0.4032 - val_loss: 0.3633 - val_mae: 0.4558\n",
            "Epoch 6/20\n",
            "26142/26142 [==============================] - 137s 5ms/step - loss: 0.2972 - mae: 0.4026 - val_loss: 0.3628 - val_mae: 0.4555\n",
            "Epoch 7/20\n",
            "26142/26142 [==============================] - 135s 5ms/step - loss: 0.2964 - mae: 0.4021 - val_loss: 0.3627 - val_mae: 0.4555\n",
            "Epoch 8/20\n",
            "26142/26142 [==============================] - 139s 5ms/step - loss: 0.2957 - mae: 0.4016 - val_loss: 0.3627 - val_mae: 0.4555\n",
            "Epoch 9/20\n",
            "26142/26142 [==============================] - 140s 5ms/step - loss: 0.2951 - mae: 0.4012 - val_loss: 0.3627 - val_mae: 0.4554\n",
            "Epoch 10/20\n",
            "26142/26142 [==============================] - 138s 5ms/step - loss: 0.2945 - mae: 0.4009 - val_loss: 0.3625 - val_mae: 0.4552\n",
            "Epoch 11/20\n",
            "26142/26142 [==============================] - 139s 5ms/step - loss: 0.2940 - mae: 0.4005 - val_loss: 0.3623 - val_mae: 0.4549\n",
            "Epoch 12/20\n",
            "26142/26142 [==============================] - 140s 5ms/step - loss: 0.2934 - mae: 0.4002 - val_loss: 0.3621 - val_mae: 0.4546\n",
            "Epoch 13/20\n",
            "26142/26142 [==============================] - 136s 5ms/step - loss: 0.2929 - mae: 0.3999 - val_loss: 0.3618 - val_mae: 0.4542\n",
            "Epoch 14/20\n",
            "26142/26142 [==============================] - 135s 5ms/step - loss: 0.2925 - mae: 0.3996 - val_loss: 0.3616 - val_mae: 0.4538\n",
            "Epoch 15/20\n",
            "26142/26142 [==============================] - 138s 5ms/step - loss: 0.2920 - mae: 0.3994 - val_loss: 0.3614 - val_mae: 0.4535\n",
            "Epoch 16/20\n",
            "26142/26142 [==============================] - 141s 5ms/step - loss: 0.2915 - mae: 0.3991 - val_loss: 0.3613 - val_mae: 0.4532\n",
            "Epoch 17/20\n",
            "26142/26142 [==============================] - 140s 5ms/step - loss: 0.2911 - mae: 0.3989 - val_loss: 0.3613 - val_mae: 0.4531\n",
            "Epoch 18/20\n",
            "26142/26142 [==============================] - 140s 5ms/step - loss: 0.2906 - mae: 0.3986 - val_loss: 0.3614 - val_mae: 0.4530\n"
          ]
        }
      ],
      "source": [
        "history3 = model3.fit(windows.ts_train, \n",
        "                      epochs=20,\n",
        "                      validation_data=windows.ts_valid,\n",
        "                      callbacks=[early_stopping])"
      ]
    },
    {
      "cell_type": "code",
      "execution_count": 67,
      "metadata": {
        "colab": {
          "base_uri": "https://localhost:8080/",
          "height": 407
        },
        "id": "T8xMSE8T6Ajo",
        "outputId": "f54e7da6-75a7-40ff-b29f-38befc246b93"
      },
      "outputs": [
        {
          "output_type": "display_data",
          "data": {
            "text/plain": [
              "<Figure size 1600x400 with 2 Axes>"
            ],
            "image/png": "[encoded data removed]"
          },
          "metadata": {}
        }
      ],
      "source": [
        "metrics_plot(history3.history)"
      ]
    },
    {
      "cell_type": "code",
      "execution_count": 68,
      "metadata": {
        "colab": {
          "base_uri": "https://localhost:8080/"
        },
        "id": "cVfl3NeF6CsJ",
        "outputId": "9e4026c8-7b0b-4b69-ab61-79589297989c"
      },
      "outputs": [
        {
          "output_type": "stream",
          "name": "stdout",
          "text": [
            "3730/3730 [==============================] - 10s 3ms/step - loss: 0.3185 - mae: 0.4282\n"
          ]
        },
        {
          "output_type": "execute_result",
          "data": {
            "text/plain": [
              "[0.31845131516456604, 0.4281977117061615]"
            ]
          },
          "metadata": {},
          "execution_count": 68
        }
      ],
      "source": [
        "model3.evaluate(windows.ts_test)"
      ]
    },
    {
      "cell_type": "code",
      "execution_count": 65,
      "metadata": {
        "id": "VZq_RbDECyx8"
      },
      "outputs": [],
      "source": [
        "model4 = tf.keras.Sequential([\n",
        "    layers.LSTM(64, return_sequences=False),\n",
        "    layers.Dense(2)\n",
        "])\n",
        "model4.compile(loss=\"mse\",\n",
        "              optimizer=tf.keras.optimizers.Adam(),\n",
        "              metrics=[\"mae\"])"
      ]
    },
    {
      "cell_type": "code",
      "execution_count": 66,
      "metadata": {
        "colab": {
          "base_uri": "https://localhost:8080/"
        },
        "id": "JKTCs97UC5Oy",
        "outputId": "f5eeb94f-ee5e-4c34-9769-8437d61023cb"
      },
      "outputs": [
        {
          "output_type": "stream",
          "name": "stdout",
          "text": [
            "Epoch 1/20\n",
            "26142/26142 [==============================] - 147s 6ms/step - loss: 0.3203 - mae: 0.4188 - val_loss: 0.3765 - val_mae: 0.4667\n",
            "Epoch 2/20\n",
            "26142/26142 [==============================] - 145s 6ms/step - loss: 0.3045 - mae: 0.4078 - val_loss: 0.3694 - val_mae: 0.4610\n",
            "Epoch 3/20\n",
            "26142/26142 [==============================] - 145s 6ms/step - loss: 0.3011 - mae: 0.4051 - val_loss: 0.3640 - val_mae: 0.4555\n",
            "Epoch 4/20\n",
            "26142/26142 [==============================] - 162s 6ms/step - loss: 0.2988 - mae: 0.4035 - val_loss: 0.3629 - val_mae: 0.4542\n",
            "Epoch 5/20\n",
            "26142/26142 [==============================] - 146s 6ms/step - loss: 0.2972 - mae: 0.4023 - val_loss: 0.3622 - val_mae: 0.4536\n",
            "Epoch 6/20\n",
            "26142/26142 [==============================] - 143s 5ms/step - loss: 0.2958 - mae: 0.4013 - val_loss: 0.3609 - val_mae: 0.4527\n",
            "Epoch 7/20\n",
            "26142/26142 [==============================] - 146s 6ms/step - loss: 0.2943 - mae: 0.4002 - val_loss: 0.3603 - val_mae: 0.4520\n",
            "Epoch 8/20\n",
            "26142/26142 [==============================] - 146s 6ms/step - loss: 0.2927 - mae: 0.3992 - val_loss: 0.3605 - val_mae: 0.4515\n",
            "Epoch 9/20\n",
            "26142/26142 [==============================] - 146s 6ms/step - loss: 0.2907 - mae: 0.3980 - val_loss: 0.3621 - val_mae: 0.4523\n"
          ]
        }
      ],
      "source": [
        "history4 = model4.fit(windows.ts_train, \n",
        "                      epochs=20,\n",
        "                      validation_data=windows.ts_valid,\n",
        "                      callbacks=[early_stopping])"
      ]
    },
    {
      "cell_type": "code",
      "execution_count": 67,
      "metadata": {
        "id": "9INYTMifC9rp",
        "colab": {
          "base_uri": "https://localhost:8080/",
          "height": 407
        },
        "outputId": "1a2bec99-1611-4fe2-8df9-310f5a73f062"
      },
      "outputs": [
        {
          "output_type": "display_data",
          "data": {
            "text/plain": [
              "<Figure size 1600x400 with 2 Axes>"
            ],
            "image/png": "[encoded data removed]"
          },
          "metadata": {}
        }
      ],
      "source": [
        "metrics_plot(history4.history)"
      ]
    },
    {
      "cell_type": "code",
      "execution_count": 68,
      "metadata": {
        "id": "ledNF26FF-Vv",
        "colab": {
          "base_uri": "https://localhost:8080/"
        },
        "outputId": "d6e1caab-a823-4ead-f32d-5854a151286f"
      },
      "outputs": [
        {
          "output_type": "stream",
          "name": "stdout",
          "text": [
            "3730/3730 [==============================] - 12s 3ms/step - loss: 0.3172 - mae: 0.4260\n"
          ]
        },
        {
          "output_type": "execute_result",
          "data": {
            "text/plain": [
              "[0.31720682978630066, 0.4260207712650299]"
            ]
          },
          "metadata": {},
          "execution_count": 68
        }
      ],
      "source": [
        "model4.evaluate(windows.ts_test)"
      ]
    },
    {
      "cell_type": "code",
      "source": [
        "model5 = tf.keras.Sequential([\n",
        "    layers.LSTM(64, return_sequences=False, activation=\"relu\"),\n",
        "    layers.Dense(2)\n",
        "])\n",
        "model5.compile(loss=\"mse\",\n",
        "              optimizer=tf.keras.optimizers.Adam(),\n",
        "              metrics=[\"mae\"])"
      ],
      "metadata": {
        "colab": {
          "base_uri": "https://localhost:8080/"
        },
        "id": "bWRv0XXRde2R",
        "outputId": "62acbbea-f316-469d-cc86-4216f7a4f595"
      },
      "execution_count": 73,
      "outputs": [
        {
          "output_type": "stream",
          "name": "stderr",
          "text": [
            "WARNING:tensorflow:Layer lstm_8 will not use cuDNN kernels since it doesn't meet the criteria. It will use a generic GPU kernel as fallback when running on GPU.\n"
          ]
        }
      ]
    },
    {
      "cell_type": "code",
      "source": [
        "history5 = model5.fit(windows.ts_train, \n",
        "                      epochs=20,\n",
        "                      validation_data=windows.ts_valid,\n",
        "                      callbacks=[early_stopping])"
      ],
      "metadata": {
        "colab": {
          "base_uri": "https://localhost:8080/"
        },
        "id": "WeCWhtL2xxMy",
        "outputId": "01d4f43e-1c06-424d-c7da-d0373e16ddc1"
      },
      "execution_count": 74,
      "outputs": [
        {
          "output_type": "stream",
          "name": "stdout",
          "text": [
            "Epoch 1/20\n",
            "26142/26142 [==============================] - 416s 16ms/step - loss: 0.3236 - mae: 0.4211 - val_loss: 0.3902 - val_mae: 0.4753\n",
            "Epoch 2/20\n",
            "26142/26142 [==============================] - 434s 17ms/step - loss: 0.3054 - mae: 0.4084 - val_loss: 0.3796 - val_mae: 0.4666\n",
            "Epoch 3/20\n",
            "26142/26142 [==============================] - 417s 16ms/step - loss: 0.3025 - mae: 0.4063 - val_loss: 0.3722 - val_mae: 0.4594\n",
            "Epoch 4/20\n",
            "26142/26142 [==============================] - 434s 17ms/step - loss: 0.3006 - mae: 0.4050 - val_loss: 0.3759 - val_mae: 0.4628\n",
            "Epoch 5/20\n",
            "26142/26142 [==============================] - 487s 19ms/step - loss: 0.2988 - mae: 0.4038 - val_loss: 0.3767 - val_mae: 0.4628\n"
          ]
        }
      ]
    },
    {
      "cell_type": "code",
      "source": [
        "metrics_plot(history5.history)"
      ],
      "metadata": {
        "colab": {
          "base_uri": "https://localhost:8080/",
          "height": 407
        },
        "id": "6xob8Y8cx3c1",
        "outputId": "57a5fab6-21da-4e05-fc98-a8a1e40a6f50"
      },
      "execution_count": 75,
      "outputs": [
        {
          "output_type": "display_data",
          "data": {
            "text/plain": [
              "<Figure size 1600x400 with 2 Axes>"
            ],
            "image/png": "[encoded data removed]"
          },
          "metadata": {}
        }
      ]
    },
    {
      "cell_type": "code",
      "source": [
        "model5.evaluate(windows.ts_test)"
      ],
      "metadata": {
        "colab": {
          "base_uri": "https://localhost:8080/"
        },
        "id": "5n3No8Sfx5R4",
        "outputId": "e6211d5c-e1ae-44ea-b919-da2f7b533921"
      },
      "execution_count": 76,
      "outputs": [
        {
          "output_type": "stream",
          "name": "stdout",
          "text": [
            "3730/3730 [==============================] - 16s 4ms/step - loss: 0.3240 - mae: 0.4328\n"
          ]
        },
        {
          "output_type": "execute_result",
          "data": {
            "text/plain": [
              "[0.323963463306427, 0.4328085482120514]"
            ]
          },
          "metadata": {},
          "execution_count": 76
        }
      ]
    },
    {
      "cell_type": "markdown",
      "source": [
        "##Windspeed Models"
      ],
      "metadata": {
        "id": "j5_D1peb-nJ4"
      }
    },
    {
      "cell_type": "code",
      "source": [
        "model6 = tf.keras.Sequential([\n",
        "    layers.LSTM(32, return_sequences=False),\n",
        "    layers.Dense(2)\n",
        "])\n",
        "model6.compile(loss=\"mse\",\n",
        "              optimizer=tf.keras.optimizers.Adam(),\n",
        "              metrics=[\"mae\"])"
      ],
      "metadata": {
        "id": "5QuZW_lK_ZPc"
      },
      "execution_count": 41,
      "outputs": []
    },
    {
      "cell_type": "code",
      "source": [
        "history6 = model6.fit(ws_windows.ts_train, \n",
        "                      epochs=20,\n",
        "                      validation_data=ws_windows.ts_valid,\n",
        "                      callbacks=[early_stopping])"
      ],
      "metadata": {
        "colab": {
          "base_uri": "https://localhost:8080/"
        },
        "id": "Jx69QT-X_k1K",
        "outputId": "7585de18-e209-404b-c769-8e980f29f3e5"
      },
      "execution_count": 44,
      "outputs": [
        {
          "output_type": "stream",
          "name": "stdout",
          "text": [
            "Epoch 1/20\n",
            "2549/2549 [==============================] - 23s 6ms/step - loss: 0.3940 - mae: 0.4706 - val_loss: 0.3596 - val_mae: 0.4400\n",
            "Epoch 2/20\n",
            "2549/2549 [==============================] - 15s 6ms/step - loss: 0.3220 - mae: 0.4234 - val_loss: 0.3397 - val_mae: 0.4267\n",
            "Epoch 3/20\n",
            "2549/2549 [==============================] - 14s 6ms/step - loss: 0.3125 - mae: 0.4156 - val_loss: 0.3349 - val_mae: 0.4223\n",
            "Epoch 4/20\n",
            "2549/2549 [==============================] - 15s 6ms/step - loss: 0.3071 - mae: 0.4115 - val_loss: 0.3321 - val_mae: 0.4203\n",
            "Epoch 5/20\n",
            "2549/2549 [==============================] - 14s 5ms/step - loss: 0.3028 - mae: 0.4084 - val_loss: 0.3297 - val_mae: 0.4186\n",
            "Epoch 6/20\n",
            "2549/2549 [==============================] - 14s 6ms/step - loss: 0.2989 - mae: 0.4056 - val_loss: 0.3285 - val_mae: 0.4176\n",
            "Epoch 7/20\n",
            "2549/2549 [==============================] - 15s 6ms/step - loss: 0.2952 - mae: 0.4029 - val_loss: 0.3283 - val_mae: 0.4172\n",
            "Epoch 8/20\n",
            "2549/2549 [==============================] - 14s 6ms/step - loss: 0.2916 - mae: 0.4003 - val_loss: 0.3283 - val_mae: 0.4175\n",
            "Epoch 9/20\n",
            "2549/2549 [==============================] - 14s 5ms/step - loss: 0.2880 - mae: 0.3978 - val_loss: 0.3285 - val_mae: 0.4179\n"
          ]
        }
      ]
    },
    {
      "cell_type": "code",
      "source": [
        "metrics_plot(history6.history)"
      ],
      "metadata": {
        "colab": {
          "base_uri": "https://localhost:8080/",
          "height": 407
        },
        "id": "t-tHiG26Anmj",
        "outputId": "cb0be516-4207-42b8-9d86-2d3b8c0b6a43"
      },
      "execution_count": 48,
      "outputs": [
        {
          "output_type": "display_data",
          "data": {
            "text/plain": [
              "<Figure size 1600x400 with 2 Axes>"
            ],
            "image/png": "[encoded data removed]"
          },
          "metadata": {}
        }
      ]
    },
    {
      "cell_type": "code",
      "source": [
        "model6.evaluate(ws_windows.ts_test)"
      ],
      "metadata": {
        "colab": {
          "base_uri": "https://localhost:8080/"
        },
        "id": "TDAVAWNvBL8J",
        "outputId": "b41bf7fc-4cf9-4867-a424-8aebb3dfbf0e"
      },
      "execution_count": 49,
      "outputs": [
        {
          "output_type": "stream",
          "name": "stdout",
          "text": [
            "360/360 [==============================] - 1s 3ms/step - loss: 0.3200 - mae: 0.4108\n"
          ]
        },
        {
          "output_type": "execute_result",
          "data": {
            "text/plain": [
              "[0.31998947262763977, 0.41075173020362854]"
            ]
          },
          "metadata": {},
          "execution_count": 49
        }
      ]
    },
    {
      "cell_type": "code",
      "source": [
        "model7 = tf.keras.Sequential([\n",
        "    layers.LSTM(16, return_sequences=False),\n",
        "    layers.Dense(2)\n",
        "])\n",
        "model7.compile(loss=\"mse\",\n",
        "              optimizer=tf.keras.optimizers.Adam(),\n",
        "              metrics=[\"mae\"])"
      ],
      "metadata": {
        "id": "17ZOOHKCBif-"
      },
      "execution_count": 51,
      "outputs": []
    },
    {
      "cell_type": "code",
      "source": [
        "history7 = model7.fit(ws_windows.ts_train, \n",
        "                      epochs=20,\n",
        "                      validation_data=ws_windows.ts_valid,\n",
        "                      callbacks=[early_stopping])"
      ],
      "metadata": {
        "colab": {
          "base_uri": "https://localhost:8080/"
        },
        "id": "Ay2WQHTgBkgH",
        "outputId": "556f20d5-574c-4cb5-cd41-03c24e874c1b"
      },
      "execution_count": 52,
      "outputs": [
        {
          "output_type": "stream",
          "name": "stdout",
          "text": [
            "Epoch 1/20\n",
            "2549/2549 [==============================] - 24s 8ms/step - loss: 0.4334 - mae: 0.4929 - val_loss: 0.3970 - val_mae: 0.4603\n",
            "Epoch 2/20\n",
            "2549/2549 [==============================] - 15s 6ms/step - loss: 0.3346 - mae: 0.4323 - val_loss: 0.3554 - val_mae: 0.4352\n",
            "Epoch 3/20\n",
            "2549/2549 [==============================] - 15s 6ms/step - loss: 0.3166 - mae: 0.4189 - val_loss: 0.3404 - val_mae: 0.4246\n",
            "Epoch 4/20\n",
            "2549/2549 [==============================] - 18s 7ms/step - loss: 0.3101 - mae: 0.4137 - val_loss: 0.3343 - val_mae: 0.4198\n",
            "Epoch 5/20\n",
            "2549/2549 [==============================] - 18s 7ms/step - loss: 0.3057 - mae: 0.4102 - val_loss: 0.3310 - val_mae: 0.4173\n",
            "Epoch 6/20\n",
            "2549/2549 [==============================] - 21s 8ms/step - loss: 0.3023 - mae: 0.4075 - val_loss: 0.3287 - val_mae: 0.4156\n",
            "Epoch 7/20\n",
            "2549/2549 [==============================] - 18s 7ms/step - loss: 0.2995 - mae: 0.4053 - val_loss: 0.3271 - val_mae: 0.4143\n",
            "Epoch 8/20\n",
            "2549/2549 [==============================] - 19s 8ms/step - loss: 0.2969 - mae: 0.4032 - val_loss: 0.3261 - val_mae: 0.4134\n",
            "Epoch 9/20\n",
            "2549/2549 [==============================] - 14s 6ms/step - loss: 0.2944 - mae: 0.4013 - val_loss: 0.3257 - val_mae: 0.4129\n",
            "Epoch 10/20\n",
            "2549/2549 [==============================] - 14s 6ms/step - loss: 0.2921 - mae: 0.3994 - val_loss: 0.3258 - val_mae: 0.4126\n",
            "Epoch 11/20\n",
            "2549/2549 [==============================] - 14s 5ms/step - loss: 0.2897 - mae: 0.3977 - val_loss: 0.3264 - val_mae: 0.4127\n"
          ]
        }
      ]
    },
    {
      "cell_type": "code",
      "source": [
        "metrics_plot(history7.history)"
      ],
      "metadata": {
        "colab": {
          "base_uri": "https://localhost:8080/",
          "height": 407
        },
        "id": "zpGjsfHsBp1_",
        "outputId": "75928a66-c3cd-428a-a841-98b436a7cc4d"
      },
      "execution_count": 53,
      "outputs": [
        {
          "output_type": "display_data",
          "data": {
            "text/plain": [
              "<Figure size 1600x400 with 2 Axes>"
            ],
            "image/png": "[encoded data removed]"
          },
          "metadata": {}
        }
      ]
    },
    {
      "cell_type": "code",
      "source": [
        "model7.evaluate(ws_windows.ts_test)"
      ],
      "metadata": {
        "colab": {
          "base_uri": "https://localhost:8080/"
        },
        "id": "zJn0bvWtBrwI",
        "outputId": "7f732236-ddba-4caa-f593-06e229501a20"
      },
      "execution_count": 54,
      "outputs": [
        {
          "output_type": "stream",
          "name": "stdout",
          "text": [
            "360/360 [==============================] - 1s 3ms/step - loss: 0.3156 - mae: 0.4060\n"
          ]
        },
        {
          "output_type": "execute_result",
          "data": {
            "text/plain": [
              "[0.3155633807182312, 0.4059929847717285]"
            ]
          },
          "metadata": {},
          "execution_count": 54
        }
      ]
    },
    {
      "cell_type": "code",
      "source": [
        "model8 = tf.keras.Sequential([\n",
        "    layers.LSTM(8, return_sequences=False),\n",
        "    layers.Dense(2)\n",
        "])\n",
        "model8.compile(loss=\"mse\",\n",
        "              optimizer=tf.keras.optimizers.Adam(),\n",
        "              metrics=[\"mae\"])\n",
        "history8 = model8.fit(ws_windows.ts_train, \n",
        "                      epochs=20,\n",
        "                      validation_data=ws_windows.ts_valid,\n",
        "                      callbacks=[early_stopping])"
      ],
      "metadata": {
        "colab": {
          "base_uri": "https://localhost:8080/"
        },
        "id": "YAR10LGBNoB0",
        "outputId": "4e0ecbd8-d209-4dca-9deb-71d7d5cd8f92"
      },
      "execution_count": 33,
      "outputs": [
        {
          "output_type": "stream",
          "name": "stdout",
          "text": [
            "Epoch 1/20\n",
            "2549/2549 [==============================] - 21s 7ms/step - loss: 0.4586 - mae: 0.5061 - val_loss: 0.4122 - val_mae: 0.4647\n",
            "Epoch 2/20\n",
            "2549/2549 [==============================] - 18s 7ms/step - loss: 0.3511 - mae: 0.4425 - val_loss: 0.3701 - val_mae: 0.4420\n",
            "Epoch 3/20\n",
            "2549/2549 [==============================] - 13s 5ms/step - loss: 0.3269 - mae: 0.4257 - val_loss: 0.3526 - val_mae: 0.4318\n",
            "Epoch 4/20\n",
            "2549/2549 [==============================] - 13s 5ms/step - loss: 0.3177 - mae: 0.4194 - val_loss: 0.3444 - val_mae: 0.4271\n",
            "Epoch 5/20\n",
            "2549/2549 [==============================] - 13s 5ms/step - loss: 0.3125 - mae: 0.4160 - val_loss: 0.3398 - val_mae: 0.4245\n",
            "Epoch 6/20\n",
            "2549/2549 [==============================] - 14s 5ms/step - loss: 0.3088 - mae: 0.4134 - val_loss: 0.3369 - val_mae: 0.4229\n",
            "Epoch 7/20\n",
            "2549/2549 [==============================] - 14s 5ms/step - loss: 0.3061 - mae: 0.4113 - val_loss: 0.3351 - val_mae: 0.4219\n",
            "Epoch 8/20\n",
            "2549/2549 [==============================] - 14s 6ms/step - loss: 0.3039 - mae: 0.4096 - val_loss: 0.3339 - val_mae: 0.4211\n",
            "Epoch 9/20\n",
            "2549/2549 [==============================] - 13s 5ms/step - loss: 0.3022 - mae: 0.4082 - val_loss: 0.3333 - val_mae: 0.4206\n",
            "Epoch 10/20\n",
            "2549/2549 [==============================] - 14s 6ms/step - loss: 0.3007 - mae: 0.4070 - val_loss: 0.3329 - val_mae: 0.4203\n",
            "Epoch 11/20\n",
            "2549/2549 [==============================] - 14s 6ms/step - loss: 0.2993 - mae: 0.4060 - val_loss: 0.3327 - val_mae: 0.4200\n",
            "Epoch 12/20\n",
            "2549/2549 [==============================] - 13s 5ms/step - loss: 0.2981 - mae: 0.4051 - val_loss: 0.3326 - val_mae: 0.4198\n",
            "Epoch 13/20\n",
            "2549/2549 [==============================] - 14s 6ms/step - loss: 0.2970 - mae: 0.4043 - val_loss: 0.3325 - val_mae: 0.4196\n",
            "Epoch 14/20\n",
            "2549/2549 [==============================] - 15s 6ms/step - loss: 0.2960 - mae: 0.4036 - val_loss: 0.3325 - val_mae: 0.4195\n",
            "Epoch 15/20\n",
            "2549/2549 [==============================] - 14s 6ms/step - loss: 0.2950 - mae: 0.4029 - val_loss: 0.3326 - val_mae: 0.4194\n"
          ]
        }
      ]
    },
    {
      "cell_type": "code",
      "source": [
        "metrics_plot(history8.history)"
      ],
      "metadata": {
        "colab": {
          "base_uri": "https://localhost:8080/",
          "height": 407
        },
        "id": "OsAB7fJrN2JU",
        "outputId": "fd9848b7-deca-4c6d-a211-5e42d8419e86"
      },
      "execution_count": 34,
      "outputs": [
        {
          "output_type": "display_data",
          "data": {
            "text/plain": [
              "<Figure size 1600x400 with 2 Axes>"
            ],
            "image/png": "[encoded data removed]"
          },
          "metadata": {}
        }
      ]
    },
    {
      "cell_type": "code",
      "source": [
        "model8.evaluate(ws_windows.ts_test)"
      ],
      "metadata": {
        "colab": {
          "base_uri": "https://localhost:8080/"
        },
        "id": "aFebhomTN8u7",
        "outputId": "46efd5e3-da59-4e77-c3fa-489181e280af"
      },
      "execution_count": 35,
      "outputs": [
        {
          "output_type": "stream",
          "name": "stdout",
          "text": [
            "360/360 [==============================] - 1s 3ms/step - loss: 0.3136 - mae: 0.4054\n"
          ]
        },
        {
          "output_type": "execute_result",
          "data": {
            "text/plain": [
              "[0.31357109546661377, 0.4054127633571625]"
            ]
          },
          "metadata": {},
          "execution_count": 35
        }
      ]
    },
    {
      "cell_type": "markdown",
      "source": [
        "##Baseline Comparison"
      ],
      "metadata": {
        "id": "j-hsE8ytBDeD"
      }
    },
    {
      "cell_type": "markdown",
      "source": [
        "Here I calculate the baseline MAE for each test set. To do this, I simply use the TMIN and TMAX measurements from the previous day."
      ],
      "metadata": {
        "id": "MuUMcao6-9Dr"
      }
    },
    {
      "cell_type": "code",
      "source": [
        "normalized_baseline = (windows.baseline - windows.tr_mean)/windows.tr_sd\n",
        "normalized_baseline.head()"
      ],
      "metadata": {
        "colab": {
          "base_uri": "https://localhost:8080/",
          "height": 206
        },
        "id": "uSZWgcAWRKsy",
        "outputId": "882943c2-c0e7-4746-cbbc-eba491d4d1c0"
      },
      "execution_count": 48,
      "outputs": [
        {
          "output_type": "execute_result",
          "data": {
            "text/plain": [
              "        DOY_SIN   DOY_COS      PRCP      TMIN      TMAX\n",
              "33618  0.402163  1.355355 -0.271104 -1.798237 -0.050672\n",
              "33619  0.425408  1.348145 -0.271104 -1.118457  0.092052\n",
              "33620  0.448526  1.340536 -0.271104 -1.558315 -0.050672\n",
              "33621  0.471509  1.332532 -0.271104 -1.358380  0.092052\n",
              "33622  0.494351  1.324133 -0.271104 -1.358380 -0.050672"
            ],
            "text/html": [
              "\n",
              "  <div id=\"df-5330eeac-9dd2-4269-8965-e0d83d7158fb\">\n",
              "    <div class=\"colab-df-container\">\n",
              "      <div>\n",
              "<style scoped>\n",
              "    .dataframe tbody tr th:only-of-type {\n",
              "        vertical-align: middle;\n",
              "    }\n",
              "\n",
              "    .dataframe tbody tr th {\n",
              "        vertical-align: top;\n",
              "    }\n",
              "\n",
              "    .dataframe thead th {\n",
              "        text-align: right;\n",
              "    }\n",
              "</style>\n",
              "<table border=\"1\" class=\"dataframe\">\n",
              "  <thead>\n",
              "    <tr style=\"text-align: right;\">\n",
              "      <th></th>\n",
              "      <th>DOY_SIN</th>\n",
              "      <th>DOY_COS</th>\n",
              "      <th>PRCP</th>\n",
              "      <th>TMIN</th>\n",
              "      <th>TMAX</th>\n",
              "    </tr>\n",
              "  </thead>\n",
              "  <tbody>\n",
              "    <tr>\n",
              "      <th>33618</th>\n",
              "      <td>0.402163</td>\n",
              "      <td>1.355355</td>\n",
              "      <td>-0.271104</td>\n",
              "      <td>-1.798237</td>\n",
              "      <td>-0.050672</td>\n",
              "    </tr>\n",
              "    <tr>\n",
              "      <th>33619</th>\n",
              "      <td>0.425408</td>\n",
              "      <td>1.348145</td>\n",
              "      <td>-0.271104</td>\n",
              "      <td>-1.118457</td>\n",
              "      <td>0.092052</td>\n",
              "    </tr>\n",
              "    <tr>\n",
              "      <th>33620</th>\n",
              "      <td>0.448526</td>\n",
              "      <td>1.340536</td>\n",
              "      <td>-0.271104</td>\n",
              "      <td>-1.558315</td>\n",
              "      <td>-0.050672</td>\n",
              "    </tr>\n",
              "    <tr>\n",
              "      <th>33621</th>\n",
              "      <td>0.471509</td>\n",
              "      <td>1.332532</td>\n",
              "      <td>-0.271104</td>\n",
              "      <td>-1.358380</td>\n",
              "      <td>0.092052</td>\n",
              "    </tr>\n",
              "    <tr>\n",
              "      <th>33622</th>\n",
              "      <td>0.494351</td>\n",
              "      <td>1.324133</td>\n",
              "      <td>-0.271104</td>\n",
              "      <td>-1.358380</td>\n",
              "      <td>-0.050672</td>\n",
              "    </tr>\n",
              "  </tbody>\n",
              "</table>\n",
              "</div>\n",
              "      <button class=\"colab-df-convert\" onclick=\"convertToInteractive('df-5330eeac-9dd2-4269-8965-e0d83d7158fb')\"\n",
              "              title=\"Convert this dataframe to an interactive table.\"\n",
              "              style=\"display:none;\">\n",
              "        \n",
              "  <svg xmlns=\"http://www.w3.org/2000/svg\" height=\"24px\"viewBox=\"0 0 24 24\"\n",
              "       width=\"24px\">\n",
              "    <path d=\"M0 0h24v24H0V0z\" fill=\"none\"/>\n",
              "    <path d=\"M18.56 5.44l.94 2.06.94-2.06 2.06-.94-2.06-.94-.94-2.06-.94 2.06-2.06.94zm-11 1L8.5 8.5l.94-2.06 2.06-.94-2.06-.94L8.5 2.5l-.94 2.06-2.06.94zm10 10l.94 2.06.94-2.06 2.06-.94-2.06-.94-.94-2.06-.94 2.06-2.06.94z\"/><path d=\"M17.41 7.96l-1.37-1.37c-.4-.4-.92-.59-1.43-.59-.52 0-1.04.2-1.43.59L10.3 9.45l-7.72 7.72c-.78.78-.78 2.05 0 2.83L4 21.41c.39.39.9.59 1.41.59.51 0 1.02-.2 1.41-.59l7.78-7.78 2.81-2.81c.8-.78.8-2.07 0-2.86zM5.41 20L4 18.59l7.72-7.72 1.47 1.35L5.41 20z\"/>\n",
              "  </svg>\n",
              "      </button>\n",
              "      \n",
              "  <style>\n",
              "    .colab-df-container {\n",
              "      display:flex;\n",
              "      flex-wrap:wrap;\n",
              "      gap: 12px;\n",
              "    }\n",
              "\n",
              "    .colab-df-convert {\n",
              "      background-color: #E8F0FE;\n",
              "      border: none;\n",
              "      border-radius: 50%;\n",
              "      cursor: pointer;\n",
              "      display: none;\n",
              "      fill: #1967D2;\n",
              "      height: 32px;\n",
              "      padding: 0 0 0 0;\n",
              "      width: 32px;\n",
              "    }\n",
              "\n",
              "    .colab-df-convert:hover {\n",
              "      background-color: #E2EBFA;\n",
              "      box-shadow: 0px 1px 2px rgba(60, 64, 67, 0.3), 0px 1px 3px 1px rgba(60, 64, 67, 0.15);\n",
              "      fill: #174EA6;\n",
              "    }\n",
              "\n",
              "    [theme=dark] .colab-df-convert {\n",
              "      background-color: #3B4455;\n",
              "      fill: #D2E3FC;\n",
              "    }\n",
              "\n",
              "    [theme=dark] .colab-df-convert:hover {\n",
              "      background-color: #434B5C;\n",
              "      box-shadow: 0px 1px 3px 1px rgba(0, 0, 0, 0.15);\n",
              "      filter: drop-shadow(0px 1px 2px rgba(0, 0, 0, 0.3));\n",
              "      fill: #FFFFFF;\n",
              "    }\n",
              "  </style>\n",
              "\n",
              "      <script>\n",
              "        const buttonEl =\n",
              "          document.querySelector('#df-5330eeac-9dd2-4269-8965-e0d83d7158fb button.colab-df-convert');\n",
              "        buttonEl.style.display =\n",
              "          google.colab.kernel.accessAllowed ? 'block' : 'none';\n",
              "\n",
              "        async function convertToInteractive(key) {\n",
              "          const element = document.querySelector('#df-5330eeac-9dd2-4269-8965-e0d83d7158fb');\n",
              "          const dataTable =\n",
              "            await google.colab.kernel.invokeFunction('convertToInteractive',\n",
              "                                                     [key], {});\n",
              "          if (!dataTable) return;\n",
              "\n",
              "          const docLinkHtml = 'Like what you see? Visit the ' +\n",
              "            '<a target=\"_blank\" href=https://colab.research.google.com/notebooks/data_table.ipynb>data table notebook</a>'\n",
              "            + ' to learn more about interactive tables.';\n",
              "          element.innerHTML = '';\n",
              "          dataTable['output_type'] = 'display_data';\n",
              "          await google.colab.output.renderOutput(dataTable, element);\n",
              "          const docLink = document.createElement('div');\n",
              "          docLink.innerHTML = docLinkHtml;\n",
              "          element.appendChild(docLink);\n",
              "        }\n",
              "      </script>\n",
              "    </div>\n",
              "  </div>\n",
              "  "
            ]
          },
          "metadata": {},
          "execution_count": 48
        }
      ]
    },
    {
      "cell_type": "code",
      "source": [
        "normalized_diff = normalized_baseline.reset_index() - windows.test.reset_index()\n",
        "normalized_diff.head()"
      ],
      "metadata": {
        "colab": {
          "base_uri": "https://localhost:8080/",
          "height": 206
        },
        "id": "jce0PdfPRmQE",
        "outputId": "e8877e83-38b7-4b7d-c975-be1892ed802a"
      },
      "execution_count": 52,
      "outputs": [
        {
          "output_type": "execute_result",
          "data": {
            "text/plain": [
              "   index   DOY_SIN   DOY_COS  PRCP      TMIN      TMAX\n",
              "0     -1 -0.023245  0.007210   0.0 -0.679780 -0.142725\n",
              "1     -1 -0.023118  0.007609   0.0  0.439858  0.142725\n",
              "2     -1 -0.022983  0.008005   0.0 -0.199935 -0.142725\n",
              "3     -1 -0.022842  0.008399   0.0  0.000000  0.142725\n",
              "4     -1 -0.022694  0.008790   0.0 -0.439858  0.261662"
            ],
            "text/html": [
              "\n",
              "  <div id=\"df-3b190671-4a69-49a4-b004-2a0e32fe2fbf\">\n",
              "    <div class=\"colab-df-container\">\n",
              "      <div>\n",
              "<style scoped>\n",
              "    .dataframe tbody tr th:only-of-type {\n",
              "        vertical-align: middle;\n",
              "    }\n",
              "\n",
              "    .dataframe tbody tr th {\n",
              "        vertical-align: top;\n",
              "    }\n",
              "\n",
              "    .dataframe thead th {\n",
              "        text-align: right;\n",
              "    }\n",
              "</style>\n",
              "<table border=\"1\" class=\"dataframe\">\n",
              "  <thead>\n",
              "    <tr style=\"text-align: right;\">\n",
              "      <th></th>\n",
              "      <th>index</th>\n",
              "      <th>DOY_SIN</th>\n",
              "      <th>DOY_COS</th>\n",
              "      <th>PRCP</th>\n",
              "      <th>TMIN</th>\n",
              "      <th>TMAX</th>\n",
              "    </tr>\n",
              "  </thead>\n",
              "  <tbody>\n",
              "    <tr>\n",
              "      <th>0</th>\n",
              "      <td>-1</td>\n",
              "      <td>-0.023245</td>\n",
              "      <td>0.007210</td>\n",
              "      <td>0.0</td>\n",
              "      <td>-0.679780</td>\n",
              "      <td>-0.142725</td>\n",
              "    </tr>\n",
              "    <tr>\n",
              "      <th>1</th>\n",
              "      <td>-1</td>\n",
              "      <td>-0.023118</td>\n",
              "      <td>0.007609</td>\n",
              "      <td>0.0</td>\n",
              "      <td>0.439858</td>\n",
              "      <td>0.142725</td>\n",
              "    </tr>\n",
              "    <tr>\n",
              "      <th>2</th>\n",
              "      <td>-1</td>\n",
              "      <td>-0.022983</td>\n",
              "      <td>0.008005</td>\n",
              "      <td>0.0</td>\n",
              "      <td>-0.199935</td>\n",
              "      <td>-0.142725</td>\n",
              "    </tr>\n",
              "    <tr>\n",
              "      <th>3</th>\n",
              "      <td>-1</td>\n",
              "      <td>-0.022842</td>\n",
              "      <td>0.008399</td>\n",
              "      <td>0.0</td>\n",
              "      <td>0.000000</td>\n",
              "      <td>0.142725</td>\n",
              "    </tr>\n",
              "    <tr>\n",
              "      <th>4</th>\n",
              "      <td>-1</td>\n",
              "      <td>-0.022694</td>\n",
              "      <td>0.008790</td>\n",
              "      <td>0.0</td>\n",
              "      <td>-0.439858</td>\n",
              "      <td>0.261662</td>\n",
              "    </tr>\n",
              "  </tbody>\n",
              "</table>\n",
              "</div>\n",
              "      <button class=\"colab-df-convert\" onclick=\"convertToInteractive('df-3b190671-4a69-49a4-b004-2a0e32fe2fbf')\"\n",
              "              title=\"Convert this dataframe to an interactive table.\"\n",
              "              style=\"display:none;\">\n",
              "        \n",
              "  <svg xmlns=\"http://www.w3.org/2000/svg\" height=\"24px\"viewBox=\"0 0 24 24\"\n",
              "       width=\"24px\">\n",
              "    <path d=\"M0 0h24v24H0V0z\" fill=\"none\"/>\n",
              "    <path d=\"M18.56 5.44l.94 2.06.94-2.06 2.06-.94-2.06-.94-.94-2.06-.94 2.06-2.06.94zm-11 1L8.5 8.5l.94-2.06 2.06-.94-2.06-.94L8.5 2.5l-.94 2.06-2.06.94zm10 10l.94 2.06.94-2.06 2.06-.94-2.06-.94-.94-2.06-.94 2.06-2.06.94z\"/><path d=\"M17.41 7.96l-1.37-1.37c-.4-.4-.92-.59-1.43-.59-.52 0-1.04.2-1.43.59L10.3 9.45l-7.72 7.72c-.78.78-.78 2.05 0 2.83L4 21.41c.39.39.9.59 1.41.59.51 0 1.02-.2 1.41-.59l7.78-7.78 2.81-2.81c.8-.78.8-2.07 0-2.86zM5.41 20L4 18.59l7.72-7.72 1.47 1.35L5.41 20z\"/>\n",
              "  </svg>\n",
              "      </button>\n",
              "      \n",
              "  <style>\n",
              "    .colab-df-container {\n",
              "      display:flex;\n",
              "      flex-wrap:wrap;\n",
              "      gap: 12px;\n",
              "    }\n",
              "\n",
              "    .colab-df-convert {\n",
              "      background-color: #E8F0FE;\n",
              "      border: none;\n",
              "      border-radius: 50%;\n",
              "      cursor: pointer;\n",
              "      display: none;\n",
              "      fill: #1967D2;\n",
              "      height: 32px;\n",
              "      padding: 0 0 0 0;\n",
              "      width: 32px;\n",
              "    }\n",
              "\n",
              "    .colab-df-convert:hover {\n",
              "      background-color: #E2EBFA;\n",
              "      box-shadow: 0px 1px 2px rgba(60, 64, 67, 0.3), 0px 1px 3px 1px rgba(60, 64, 67, 0.15);\n",
              "      fill: #174EA6;\n",
              "    }\n",
              "\n",
              "    [theme=dark] .colab-df-convert {\n",
              "      background-color: #3B4455;\n",
              "      fill: #D2E3FC;\n",
              "    }\n",
              "\n",
              "    [theme=dark] .colab-df-convert:hover {\n",
              "      background-color: #434B5C;\n",
              "      box-shadow: 0px 1px 3px 1px rgba(0, 0, 0, 0.15);\n",
              "      filter: drop-shadow(0px 1px 2px rgba(0, 0, 0, 0.3));\n",
              "      fill: #FFFFFF;\n",
              "    }\n",
              "  </style>\n",
              "\n",
              "      <script>\n",
              "        const buttonEl =\n",
              "          document.querySelector('#df-3b190671-4a69-49a4-b004-2a0e32fe2fbf button.colab-df-convert');\n",
              "        buttonEl.style.display =\n",
              "          google.colab.kernel.accessAllowed ? 'block' : 'none';\n",
              "\n",
              "        async function convertToInteractive(key) {\n",
              "          const element = document.querySelector('#df-3b190671-4a69-49a4-b004-2a0e32fe2fbf');\n",
              "          const dataTable =\n",
              "            await google.colab.kernel.invokeFunction('convertToInteractive',\n",
              "                                                     [key], {});\n",
              "          if (!dataTable) return;\n",
              "\n",
              "          const docLinkHtml = 'Like what you see? Visit the ' +\n",
              "            '<a target=\"_blank\" href=https://colab.research.google.com/notebooks/data_table.ipynb>data table notebook</a>'\n",
              "            + ' to learn more about interactive tables.';\n",
              "          element.innerHTML = '';\n",
              "          dataTable['output_type'] = 'display_data';\n",
              "          await google.colab.output.renderOutput(dataTable, element);\n",
              "          const docLink = document.createElement('div');\n",
              "          docLink.innerHTML = docLinkHtml;\n",
              "          element.appendChild(docLink);\n",
              "        }\n",
              "      </script>\n",
              "    </div>\n",
              "  </div>\n",
              "  "
            ]
          },
          "metadata": {},
          "execution_count": 52
        }
      ]
    },
    {
      "cell_type": "code",
      "source": [
        "(normalized_diff.TMIN.abs().sum() + normalized_diff.TMAX.abs().sum())/(len(normalized_diff)*2)"
      ],
      "metadata": {
        "colab": {
          "base_uri": "https://localhost:8080/"
        },
        "id": "h5bQTr2kRuAV",
        "outputId": "a2b8fd27-7e24-4a27-b942-dff7f4f33162"
      },
      "execution_count": 54,
      "outputs": [
        {
          "output_type": "execute_result",
          "data": {
            "text/plain": [
              "0.4342070136828859"
            ]
          },
          "metadata": {},
          "execution_count": 54
        }
      ]
    },
    {
      "cell_type": "code",
      "source": [
        "ws_normalized_baseline = (ws_windows.baseline - ws_windows.tr_mean)/ws_windows.tr_sd\n",
        "ws_normalized_diff = ws_normalized_baseline.reset_index() - ws_windows.test.reset_index()\n",
        "(ws_normalized_diff.TMIN.abs().sum() + ws_normalized_diff.TMAX.abs().sum())/(len(ws_normalized_diff)*2)"
      ],
      "metadata": {
        "colab": {
          "base_uri": "https://localhost:8080/"
        },
        "id": "YjzGU53iB29l",
        "outputId": "34e75a73-a969-4c4b-c88a-72f797cd53f9"
      },
      "execution_count": 55,
      "outputs": [
        {
          "output_type": "execute_result",
          "data": {
            "text/plain": [
              "0.45497127860530495"
            ]
          },
          "metadata": {},
          "execution_count": 55
        }
      ]
    },
    {
      "cell_type": "markdown",
      "source": [
        "MAE for non-windspeed set is 0.4342 and 0.4550 for windspeed set."
      ],
      "metadata": {
        "id": "OocySfebFKf4"
      }
    },
    {
      "cell_type": "markdown",
      "source": [
        "# Results"
      ],
      "metadata": {
        "id": "FbSBla6Q81Zb"
      }
    },
    {
      "cell_type": "markdown",
      "source": [
        "These tables and graphs are not auto-generated, but based on my most recent run just so my analysis can be consistent with it."
      ],
      "metadata": {
        "id": "Cx2tABXTBJ-g"
      }
    },
    {
      "cell_type": "markdown",
      "source": [
        "Non-windspeed models:"
      ],
      "metadata": {
        "id": "td6Z5AmF_6Rm"
      }
    },
    {
      "cell_type": "markdown",
      "source": [
        "|Model|Description|Epochs|Train MAE|Validation MAE|Test MAE|\n",
        "|----|----|----|---|---|----|\n",
        "|baseline|t-1 as pred| | | |0.4342|\n",
        "|model1|LSTM(32) lr=0.001|10 |0.4004 | 0.4501 | 0.4248|\n",
        "|model2|LSTM(32) lr=0.01|4|0.4203 | 0.5000 | 0.4640|\n",
        "|model3|LSTM(16) lr=0.001|18|0.3986 |  0.4530 | 0.4282|\n",
        "|model4|LSTM(64) lr=0.001|9|0.3980 |  0.4523 | 0.4260|\n",
        "|model5|LSTM(64) lr=0.001 actiavtion=\"relu\"|5|0.4038 |  0.4628 |0.4328|"
      ],
      "metadata": {
        "id": "35T8T8cO7f8V"
      }
    },
    {
      "cell_type": "code",
      "source": [
        "test_mae = {'model':['baseline', 'model1', 'model2', 'model3', 'model4', 'model5'], 'test_mae':[0.4342, 0.4248, 0.4640, 0.4282, 0.4260, 0.4328]}\n",
        "\n",
        "pd.DataFrame(test_mae).plot.bar(x='model', y='test_mae', rot=0)"
      ],
      "metadata": {
        "colab": {
          "base_uri": "https://localhost:8080/",
          "height": 466
        },
        "id": "K6CorlUOxlO7",
        "outputId": "9d903eb6-5fd7-4d44-9a6c-2b42a4d09596"
      },
      "execution_count": 105,
      "outputs": [
        {
          "output_type": "execute_result",
          "data": {
            "text/plain": [
              "<Axes: xlabel='model'>"
            ]
          },
          "metadata": {},
          "execution_count": 105
        },
        {
          "output_type": "display_data",
          "data": {
            "text/plain": [
              "<Figure size 640x480 with 1 Axes>"
            ],
            "image/png": "[encoded data removed]"
          },
          "metadata": {}
        }
      ]
    },
    {
      "cell_type": "markdown",
      "source": [
        "We can see that these models barely beat out the baseline model in MAE. This suggests that the test set could be sufficiently different from the training set as the years are a lot later and with climate change effects. My models architecture could also be insufficient. Another explanation is that these features do not explain the labels enough especially since percipitation is not very helpful to explain much in San Francisco."
      ],
      "metadata": {
        "id": "dd9NKwtWBGym"
      }
    },
    {
      "cell_type": "markdown",
      "source": [
        "Windspeed models:"
      ],
      "metadata": {
        "id": "_HZ7U_pj_9f2"
      }
    },
    {
      "cell_type": "markdown",
      "source": [
        "|Model|Description|Epochs|Train MAE|Validation MAE|Test MAE|\n",
        "|----|----|----|---|---|----|\n",
        "|ws_baseline|t-1 as pred| | | |0.4550|\n",
        "|model6|LSTM(32) lr=0.001|9|0.3978 |  0.4179 | 0.4108|\n",
        "|model7|LSTM(16) lr=0.001|11|0.3977 |  0.4127 | 0.4060|\n",
        "|model8|LSTM(8) lr=0.001|15|0.4029 |  0.4194 | 0.4054|"
      ],
      "metadata": {
        "id": "9s7KPBp7VRY6"
      }
    },
    {
      "cell_type": "code",
      "source": [
        "ws_test_mae = {'ws_model':['ws_baseline', 'model6', 'model7', 'model8'], 'test_mae':[0.4550, 0.4108, 0.4060, 0.4054]}\n",
        "\n",
        "pd.DataFrame(ws_test_mae).plot.bar(x='ws_model', y='test_mae', rot=0)"
      ],
      "metadata": {
        "colab": {
          "base_uri": "https://localhost:8080/",
          "height": 467
        },
        "id": "Pk3y7zRSzihG",
        "outputId": "14d9b223-ec3d-4441-b07f-f2323754eb06"
      },
      "execution_count": 36,
      "outputs": [
        {
          "output_type": "execute_result",
          "data": {
            "text/plain": [
              "<Axes: xlabel='ws_model'>"
            ]
          },
          "metadata": {},
          "execution_count": 36
        },
        {
          "output_type": "display_data",
          "data": {
            "text/plain": [
              "<Figure size 640x480 with 1 Axes>"
            ],
            "image/png": "[encoded data removed]"
          },
          "metadata": {}
        }
      ]
    },
    {
      "cell_type": "markdown",
      "source": [
        "Here we can see that adding a feature that better explains the label increases performance noticeably. It also helps that the year ranges are a lot more restricted where the windspeed dataset was constrained to a 10 year period vs a 100 year period in the non-windspeed dataset. It is also noted that less LSTM units very slightly improved the MAE scores. If this dataset contained more helpful features I believe LSTM could do an even better job out performing the baseline. "
      ],
      "metadata": {
        "id": "IU5L4emAKMKI"
      }
    },
    {
      "cell_type": "markdown",
      "source": [
        "##Real World Intepretation"
      ],
      "metadata": {
        "id": "t3VptjpaMATS"
      }
    },
    {
      "cell_type": "markdown",
      "source": [
        "Using model7 from the windspeed dataset, we'll see how what these results actually mean in terms of a real application. We'll see what the model predicts for the first sample in the test set."
      ],
      "metadata": {
        "id": "yPMLu5gcXftK"
      }
    },
    {
      "cell_type": "code",
      "source": [
        "predicts = model7.predict(ws_windows.ts_test)"
      ],
      "metadata": {
        "colab": {
          "base_uri": "https://localhost:8080/"
        },
        "id": "PNL6mwy4D4Vd",
        "outputId": "9097a3a6-0085-40c6-8122-7dc75dc647e3"
      },
      "execution_count": 69,
      "outputs": [
        {
          "output_type": "stream",
          "name": "stdout",
          "text": [
            "360/360 [==============================] - 1s 2ms/step\n"
          ]
        }
      ]
    },
    {
      "cell_type": "code",
      "source": [
        "actual_1 = next(iter(ws_windows.ts_test))\n",
        "actual_1"
      ],
      "metadata": {
        "colab": {
          "base_uri": "https://localhost:8080/"
        },
        "id": "FN-cdP2DjBhK",
        "outputId": "7d9ce85b-1ba9-41fa-e4a1-e54618463214"
      },
      "execution_count": 78,
      "outputs": [
        {
          "output_type": "execute_result",
          "data": {
            "text/plain": [
              "(<tf.Tensor: shape=(1, 6, 6), dtype=float64, numpy=\n",
              " array([[[-5.41908188e-03,  1.41455890e+00,  1.04512004e+00,\n",
              "          -2.22764328e+00, -1.53431669e+00, -1.49782935e+00],\n",
              "         [ 2.48015116e-02,  1.41436199e+00, -2.84912279e-01,\n",
              "           8.02836863e-01, -1.77304873e+00, -1.64361252e+00],\n",
              "         [ 4.91165029e-02,  1.41373441e+00, -2.84912279e-01,\n",
              "           8.99554315e-01, -2.44945620e+00, -1.91088166e+00],\n",
              "         [ 7.34171010e-02,  1.41268865e+00,  6.82874545e+00,\n",
              "          -2.22764328e+00, -2.88713161e+00, -2.32393398e+00],\n",
              "         [ 9.76961148e-02,  1.41122501e+00,  8.83904005e-01,\n",
              "          -3.53810481e-02, -2.44945620e+00, -2.44541995e+00],\n",
              "         [ 1.21946359e-01,  1.40934394e+00, -2.29362154e-02,\n",
              "          -6.47924907e-01, -2.21072415e+00, -1.78939569e+00]]])>,\n",
              " <tf.Tensor: shape=(1, 1, 2), dtype=float64, numpy=array([[[-2.21072415, -2.17815081]]])>)"
            ]
          },
          "metadata": {},
          "execution_count": 78
        }
      ]
    },
    {
      "cell_type": "code",
      "execution_count": 70,
      "metadata": {
        "colab": {
          "base_uri": "https://localhost:8080/"
        },
        "id": "bRnN2D54Ar2m",
        "outputId": "b380d2f9-54e3-41d7-bdd0-f95c067714ca"
      },
      "outputs": [
        {
          "output_type": "execute_result",
          "data": {
            "text/plain": [
              "array([-1.7249043, -1.4676483], dtype=float32)"
            ]
          },
          "metadata": {},
          "execution_count": 70
        }
      ],
      "source": [
        "predicts[0]"
      ]
    },
    {
      "cell_type": "markdown",
      "source": [
        "It predicts -1.725 for TMIN and -1.468 for TMAX, but these are normalized values and in 10th of a degree Celcius. Since we use fahrenheit in the US, I'll convert it to those units."
      ],
      "metadata": {
        "id": "NGVDr2hdX9K-"
      }
    },
    {
      "cell_type": "markdown",
      "source": [
        "These were the means and standard deviations from the training set which were used to normalized the rest of the data."
      ],
      "metadata": {
        "id": "eett6klLYXMi"
      }
    },
    {
      "cell_type": "code",
      "execution_count": 73,
      "metadata": {
        "colab": {
          "base_uri": "https://localhost:8080/"
        },
        "id": "9STTDu3BTLSt",
        "outputId": "b5b42923-0485-46e1-efdf-91d9d13208c2"
      },
      "outputs": [
        {
          "output_type": "execute_result",
          "data": {
            "text/plain": [
              "DOY_SIN     0.707252\n",
              "DOY_COS     0.707238\n",
              "PRCP       49.622854\n",
              "WSFG       31.018187\n",
              "TMIN       25.132780\n",
              "TMAX       41.157014\n",
              "dtype: float64"
            ]
          },
          "metadata": {},
          "execution_count": 73
        }
      ],
      "source": [
        "ws_windows.tr_sd"
      ]
    },
    {
      "cell_type": "code",
      "source": [
        "ws_windows.tr_mean"
      ],
      "metadata": {
        "colab": {
          "base_uri": "https://localhost:8080/"
        },
        "id": "qNCGn1WpmHSZ",
        "outputId": "85dfeb8b-3d65-491a-988d-f136b1e09940"
      },
      "execution_count": 80,
      "outputs": [
        {
          "output_type": "execute_result",
          "data": {
            "text/plain": [
              "DOY_SIN     -0.000339\n",
              "DOY_COS     -0.000438\n",
              "PRCP        14.138160\n",
              "WSFG        69.097456\n",
              "TMIN       105.561644\n",
              "TMAX       167.646184\n",
              "dtype: float64"
            ]
          },
          "metadata": {},
          "execution_count": 80
        }
      ]
    },
    {
      "cell_type": "markdown",
      "source": [
        "Now to convert:"
      ],
      "metadata": {
        "id": "qlynPr5sYk46"
      }
    },
    {
      "cell_type": "code",
      "source": [
        "(predicts[0][0]*ws_windows.tr_sd['TMIN'] + ws_windows.tr_mean['TMIN'])*0.1*9/5 + 32"
      ],
      "metadata": {
        "colab": {
          "base_uri": "https://localhost:8080/"
        },
        "id": "4d01rw4vk14I",
        "outputId": "2e18228f-57ca-4bcf-c312-f5b0da6f5702"
      },
      "execution_count": 84,
      "outputs": [
        {
          "output_type": "execute_result",
          "data": {
            "text/plain": [
              "43.19780062692008"
            ]
          },
          "metadata": {},
          "execution_count": 84
        }
      ]
    },
    {
      "cell_type": "code",
      "source": [
        "(predicts[0][1]*ws_windows.tr_sd['TMAX'] + ws_windows.tr_mean['TMAX'])*0.1*9/5 + 32"
      ],
      "metadata": {
        "colab": {
          "base_uri": "https://localhost:8080/"
        },
        "id": "bcAdLAOmm1Q9",
        "outputId": "4dbe3662-fe9b-40eb-ba38-72f62ca498f3"
      },
      "execution_count": 85,
      "outputs": [
        {
          "output_type": "execute_result",
          "data": {
            "text/plain": [
              "51.30358938477088"
            ]
          },
          "metadata": {},
          "execution_count": 85
        }
      ]
    },
    {
      "cell_type": "markdown",
      "source": [
        "Our model predicts a TMIN of 43.2 and TMAX of 51.3 degrees F for the day."
      ],
      "metadata": {
        "id": "n3k6SEyVYu4N"
      }
    },
    {
      "cell_type": "code",
      "source": [
        "(float(actual_1[1][0][0][0])*ws_windows.tr_sd['TMIN'] + ws_windows.tr_mean['TMIN'])*0.1*9/5 + 32"
      ],
      "metadata": {
        "colab": {
          "base_uri": "https://localhost:8080/"
        },
        "id": "Jmjh706hnNt3",
        "outputId": "8ab86a40-2b1e-4867-9903-3958e9bbcc9f"
      },
      "execution_count": 97,
      "outputs": [
        {
          "output_type": "execute_result",
          "data": {
            "text/plain": [
              "41.0"
            ]
          },
          "metadata": {},
          "execution_count": 97
        }
      ]
    },
    {
      "cell_type": "code",
      "source": [
        "(float(actual_1[1][0][0][1])*ws_windows.tr_sd['TMAX'] + ws_windows.tr_mean['TMAX'])*0.1*9/5 + 32"
      ],
      "metadata": {
        "colab": {
          "base_uri": "https://localhost:8080/"
        },
        "id": "M555HTOVngej",
        "outputId": "6281a14e-35fd-488c-b786-95611c81c84b"
      },
      "execution_count": 96,
      "outputs": [
        {
          "output_type": "execute_result",
          "data": {
            "text/plain": [
              "46.040000000000006"
            ]
          },
          "metadata": {},
          "execution_count": 96
        }
      ]
    },
    {
      "cell_type": "markdown",
      "source": [
        "Actual TMIN was 41.0 and TMAX was 46.04 degrees F. We can see it does less well on TMAX, but that's to be expected since TMAX has a higher standard deviation in SF."
      ],
      "metadata": {
        "id": "o4NgJpUrY9tw"
      }
    },
    {
      "cell_type": "markdown",
      "source": [
        "Looking at Mean Absolute Error (MAE) for comparison:"
      ],
      "metadata": {
        "id": "tVgb9oiJZcJa"
      }
    },
    {
      "cell_type": "code",
      "source": [
        "0.4060*ws_windows.tr_sd['TMIN']*0.1*9/5"
      ],
      "metadata": {
        "colab": {
          "base_uri": "https://localhost:8080/"
        },
        "id": "5rnFjInj-wFW",
        "outputId": "0f781027-1bf8-4867-c0f2-906f5ab94107"
      },
      "execution_count": 75,
      "outputs": [
        {
          "output_type": "execute_result",
          "data": {
            "text/plain": [
              "1.836703566229015"
            ]
          },
          "metadata": {},
          "execution_count": 75
        }
      ]
    },
    {
      "cell_type": "code",
      "source": [
        "0.4060*ws_windows.tr_sd['TMAX']*0.1*9/5"
      ],
      "metadata": {
        "colab": {
          "base_uri": "https://localhost:8080/"
        },
        "id": "iAGqIWpHkk1X",
        "outputId": "274d7c3b-45c4-4de4-ddc3-9dcc1370ce85"
      },
      "execution_count": 76,
      "outputs": [
        {
          "output_type": "execute_result",
          "data": {
            "text/plain": [
              "3.00775460311772"
            ]
          },
          "metadata": {},
          "execution_count": 76
        }
      ]
    },
    {
      "cell_type": "code",
      "source": [
        "0.4550*ws_windows.tr_sd['TMIN']*0.1*9/5"
      ],
      "metadata": {
        "colab": {
          "base_uri": "https://localhost:8080/"
        },
        "id": "Ux2BP0mroTbD",
        "outputId": "58793ec0-813e-41c7-a93e-186519b29167"
      },
      "execution_count": 98,
      "outputs": [
        {
          "output_type": "execute_result",
          "data": {
            "text/plain": [
              "2.0583746862911374"
            ]
          },
          "metadata": {},
          "execution_count": 98
        }
      ]
    },
    {
      "cell_type": "code",
      "source": [
        "0.4550*ws_windows.tr_sd['TMAX']*0.1*9/5"
      ],
      "metadata": {
        "colab": {
          "base_uri": "https://localhost:8080/"
        },
        "id": "Phtljde5oV-X",
        "outputId": "c315d362-7903-4444-cf22-2b5d9cb983ab"
      },
      "execution_count": 99,
      "outputs": [
        {
          "output_type": "execute_result",
          "data": {
            "text/plain": [
              "3.3707594690112375"
            ]
          },
          "metadata": {},
          "execution_count": 99
        }
      ]
    },
    {
      "cell_type": "markdown",
      "source": [
        "Our model on average was incorrect by 1.84 and 3.01 degrees F for TMIN and TMAX, while the baseline was off by 2.06 and 3.37 degrees F for TMIN and TMAX. Those are small and likely unnoticeable differences for the average daily user and a reasonable improvement given that likely on windspeed was a good feature. \n",
        "\n",
        "If I had better features, these models could produce much better results like in the TensorFlow tutorial, but one major advantage this has over the tensorflow dataset is that it can give location based forecasting where the tesnorlfow dataset cannot."
      ],
      "metadata": {
        "id": "Tvw1j4J5Zor0"
      }
    },
    {
      "cell_type": "markdown",
      "source": [
        "#Future Work"
      ],
      "metadata": {
        "id": "NYQiyc_4JGz8"
      }
    },
    {
      "cell_type": "markdown",
      "source": [
        "I could definitely try tweaking models more to see if I can find an architecture that better fits the data and I could also find better data or try to engineer better features. \n",
        "\n",
        "I could also see how it performs using different batches or using a bigger sequence like 2 weeks to predict one day or use it to predict a standard 7 day forecast and here it will very likely heavily outperform a baseline model that just predicts the previous day for the next 7. "
      ],
      "metadata": {
        "id": "3-SdODbtbMK-"
      }
    },
    {
      "cell_type": "markdown",
      "metadata": {
        "id": "BwBicnq7jFtC"
      },
      "source": [
        "#References:\n",
        "\n",
        "https://mobiarch.wordpress.com/2020/11/13/preparing-time-series-data-for-rnn-in-tensorflow/\n",
        "\n",
        "https://www.tensorflow.org/tutorials/structured_data/time_series"
      ]
    }
  ],
  "metadata": {
    "accelerator": "GPU",
    "colab": {
      "toc_visible": true,
      "provenance": []
    },
    "gpuClass": "standard",
    "kernelspec": {
      "display_name": "Python 3",
      "name": "python3"
    },
    "language_info": {
      "name": "python"
    }
  },
  "nbformat": 4,
  "nbformat_minor": 0
}